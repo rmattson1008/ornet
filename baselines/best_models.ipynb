{
 "cells": [
  {
   "cell_type": "markdown",
   "metadata": {},
   "source": [
    "Out of date. first round not trained with adam + weight decay. models dont even exist anymore. Delete eventually."
   ]
  },
  {
   "cell_type": "code",
   "execution_count": 1,
   "metadata": {},
   "outputs": [
    {
     "name": "stderr",
     "output_type": "stream",
     "text": [
      "/home/rachel/anaconda3/envs/ornet/lib/python3.9/site-packages/tqdm/auto.py:22: TqdmWarning: IProgress not found. Please update jupyter and ipywidgets. See https://ipywidgets.readthedocs.io/en/stable/user_install.html\n",
      "  from .autonotebook import tqdm as notebook_tqdm\n"
     ]
    }
   ],
   "source": [
    "import os\n",
    "import torch\n",
    "\n",
    "from models import BaseCNN, VGG_Model, ResNet18, ResBlock\n",
    "from parsing_utils import make_parser\n",
    "\n",
    "from cnn_driver import test, get_dataloaders, get_deep_features\n",
    "from benchmarks import run_benchmarks\n",
    "\n",
    "\n",
    "\n"
   ]
  },
  {
   "cell_type": "code",
   "execution_count": null,
   "metadata": {},
   "outputs": [],
   "source": []
  },
  {
   "cell_type": "code",
   "execution_count": null,
   "metadata": {},
   "outputs": [],
   "source": []
  },
  {
   "cell_type": "markdown",
   "metadata": {},
   "source": [
    "[hparams table - google sheets link](https://docs.google.com/spreadsheets/d/1XOCA3YayXT9NfAM0j9SgO9KCypA4LZj766u6BDgU_UE/edit?usp=sharing)\n",
    "\n",
    "[tensorboard training data - adam](https://tensorboard.dev/experiment/BMkn3PX8RAe6QrzwpWLd4g/)\n"
   ]
  },
  {
   "cell_type": "code",
   "execution_count": 2,
   "metadata": {},
   "outputs": [],
   "source": [
    "args, _ = make_parser()\n",
    "args.input_dir = \"/data/ornet/single_cells_cnns\"\n",
    "device = 'cpu' if args.cuda == 0 or not torch.cuda.is_available() else 'cuda'\n",
    "device = torch.device(device)\n",
    "\n",
    "if device == 'cuda':\n",
    "    torch.cuda.manual_seed_all(73)\n",
    "else:\n",
    "    torch.manual_seed(73)\n",
    "\n",
    "path_to_intermediates = \"/data/ornet/gmm_intermediates\"\n",
    "accept_list = []\n",
    "for subdir in args.classes:\n",
    "    path = os.path.join(path_to_intermediates, subdir)\n",
    "    files = os.listdir(path)\n",
    "    accept_list.extend([x.split(\".\")[0]\n",
    "                        for x in files if 'normalized' in x])"
   ]
  },
  {
   "cell_type": "markdown",
   "metadata": {},
   "source": [
    "### Resnet"
   ]
  },
  {
   "cell_type": "markdown",
   "metadata": {},
   "source": [
    "Best Global model\n",
    "Hparams:    \n",
    "- Lr = 0.0001\n",
    "- batch_size = 64\n",
    "- Shuffle =\t0\t\n"
   ]
  },
  {
   "cell_type": "code",
   "execution_count": 3,
   "metadata": {},
   "outputs": [
    {
     "name": "stdout",
     "output_type": "stream",
     "text": [
      "Using global image inputs\n",
      "/data/ornet/single_cells_cnns\n",
      "Testing\n",
      "Accuracy: tensor(0.5833, device='cuda:0')\n",
      "['control', 'mdivi', 'llo']\n",
      "[[0 2 1]\n",
      " [0 3 1]\n",
      " [1 0 4]]\n",
      "Getting deep features\n",
      "best performance at epoch 29\n",
      "RandomForestClassifier()  accuracy: 0.6666666666666666\n",
      "[[0 0 1]\n",
      " [0 4 0]\n",
      " [3 0 4]]\n",
      "KNeighborsClassifier() accuracy: 0.5833333333333334\n",
      "[[0 0 1]\n",
      " [2 4 1]\n",
      " [1 0 3]]\n",
      "DecisionTreeClassifier() accuracy: 0.5833333333333334\n",
      "[[0 1 1]\n",
      " [2 3 0]\n",
      " [1 0 4]]\n"
     ]
    }
   ],
   "source": [
    "model = ResNet18(in_channels=2, resblock=ResBlock, outputs=3)\n",
    "model.to(device)\n",
    "args.roi = False\n",
    "train_dataloader, test_dataloader, val_dataloader = get_dataloaders(\n",
    "    args, accept_list, resize=212)\n",
    "\n",
    "args.save_model = \"/home/rachel/ornet/models/glob_res_adam_0.0001_64_False_500.pth\"\n",
    "checkpoint = torch.load(args.save_model)\n",
    "model.load_state_dict(checkpoint['state_dict'])\n",
    "print(\"Testing\")\n",
    "test(args, model, test_dataloader, device=device)\n",
    "\n",
    "loader_dict = {\n",
    "            \"train\": train_dataloader, \"test\": test_dataloader, \"val\": val_dataloader\n",
    "        }\n",
    "feats = get_deep_features(args, model, loader_dict, device=device)\n",
    "run_benchmarks(feats)"
   ]
  },
  {
   "cell_type": "markdown",
   "metadata": {},
   "source": [
    "Best Local model\n",
    "Hparams:    \n",
    "- Lr = 0.001\n",
    "- batch_size = 64\n",
    "- Shuffle =\t1\n"
   ]
  },
  {
   "cell_type": "code",
   "execution_count": 4,
   "metadata": {},
   "outputs": [
    {
     "name": "stdout",
     "output_type": "stream",
     "text": [
      "Using ROI inputs\n",
      "/data/ornet/single_cells_cnns\n",
      "Testing\n",
      "Accuracy: tensor(0.4167, device='cuda:0')\n",
      "['control', 'mdivi', 'llo']\n",
      "[[1 1 1]\n",
      " [1 1 2]\n",
      " [2 0 3]]\n",
      "Getting deep features\n",
      "best performance at epoch 22\n",
      "RandomForestClassifier()  accuracy: 0.5\n",
      "[[1 1 1]\n",
      " [1 1 0]\n",
      " [1 2 4]]\n",
      "KNeighborsClassifier() accuracy: 0.6666666666666666\n",
      "[[3 1 1]\n",
      " [0 1 0]\n",
      " [0 2 4]]\n",
      "DecisionTreeClassifier() accuracy: 0.4166666666666667\n",
      "[[0 2 0]\n",
      " [1 0 0]\n",
      " [2 2 5]]\n"
     ]
    }
   ],
   "source": [
    "## retrain\n",
    "model = ResNet18(in_channels=2, resblock=ResBlock, outputs=3)\n",
    "model.to(device)\n",
    "args.roi = True\n",
    "train_dataloader, test_dataloader, val_dataloader = get_dataloaders(\n",
    "    args, accept_list, resize=228)\n",
    "args.save_model = \"/home/rachel/ornet/models/roi_res_adam_0.001_64_True_300.pth\"\n",
    "checkpoint = torch.load(args.save_model)\n",
    "model.load_state_dict(checkpoint['state_dict'])\n",
    "print(\"Testing\")\n",
    "test(args, model, test_dataloader, device=device)\n",
    "loader_dict = {\n",
    "            \"train\": train_dataloader, \"test\": test_dataloader, \"val\": val_dataloader\n",
    "        }\n",
    "feats = get_deep_features(args, model, loader_dict, device=device)\n",
    "run_benchmarks(feats)"
   ]
  },
  {
   "cell_type": "markdown",
   "metadata": {},
   "source": [
    "## Basic CNN"
   ]
  },
  {
   "cell_type": "markdown",
   "metadata": {},
   "source": [
    "Best Global model\n",
    "- 0.001\n",
    "- 64\n",
    "- False"
   ]
  },
  {
   "cell_type": "code",
   "execution_count": 5,
   "metadata": {},
   "outputs": [
    {
     "name": "stdout",
     "output_type": "stream",
     "text": [
      "Using global image inputs\n",
      "/data/ornet/single_cells_cnns\n",
      "Testing\n",
      "Accuracy: tensor(0.5000, device='cuda:0')\n",
      "['control', 'mdivi', 'llo']\n",
      "[[2 0 1]\n",
      " [2 2 0]\n",
      " [3 0 2]]\n",
      "Getting deep features\n",
      "best performance at epoch 284\n",
      "RandomForestClassifier()  accuracy: 0.6666666666666666\n",
      "[[2 1 1]\n",
      " [0 2 0]\n",
      " [1 1 4]]\n",
      "KNeighborsClassifier() accuracy: 0.5\n",
      "[[0 1 2]\n",
      " [0 3 0]\n",
      " [3 0 3]]\n",
      "DecisionTreeClassifier() accuracy: 0.6666666666666666\n",
      "[[1 0 1]\n",
      " [1 3 0]\n",
      " [1 1 4]]\n"
     ]
    }
   ],
   "source": [
    "model = BaseCNN()\n",
    "model.to(device)\n",
    "args.roi = False\n",
    "train_dataloader, test_dataloader, val_dataloader = get_dataloaders(\n",
    "    args, accept_list, resize=28)\n",
    "\n",
    "args.save_model = \"/home/rachel/ornet/models/glob_base_adam_0.001_64_False_300.pth\"\n",
    "checkpoint = torch.load(args.save_model)\n",
    "model.load_state_dict(checkpoint['state_dict'])\n",
    "print(\"Testing\")\n",
    "test(args, model, test_dataloader, device=device)\n",
    "\n",
    "loader_dict = {\n",
    "            \"train\": train_dataloader, \"test\": test_dataloader, \"val\": val_dataloader\n",
    "        }\n",
    "feats = get_deep_features(args, model, loader_dict, device=device)\n",
    "run_benchmarks(feats)"
   ]
  },
  {
   "cell_type": "markdown",
   "metadata": {},
   "source": [
    "Best on Local\n",
    "\n",
    "- 0.0001\n",
    "- 64\n",
    "- False"
   ]
  },
  {
   "cell_type": "code",
   "execution_count": 6,
   "metadata": {},
   "outputs": [
    {
     "name": "stdout",
     "output_type": "stream",
     "text": [
      "Using ROI inputs\n",
      "/data/ornet/single_cells_cnns\n",
      "Testing\n",
      "Accuracy: tensor(0.3333, device='cuda:0')\n",
      "['control', 'mdivi', 'llo']\n",
      "[[0 1 2]\n",
      " [1 0 3]\n",
      " [1 0 4]]\n",
      "Getting deep features\n",
      "best performance at epoch 291\n",
      "RandomForestClassifier()  accuracy: 0.4166666666666667\n",
      "[[0 1 0]\n",
      " [1 0 0]\n",
      " [2 3 5]]\n",
      "KNeighborsClassifier() accuracy: 0.4166666666666667\n",
      "[[0 1 0]\n",
      " [1 0 0]\n",
      " [2 3 5]]\n",
      "DecisionTreeClassifier() accuracy: 0.3333333333333333\n",
      "[[0 2 1]\n",
      " [1 0 0]\n",
      " [2 2 4]]\n"
     ]
    }
   ],
   "source": [
    "model = BaseCNN()\n",
    "model.to(device)\n",
    "args.roi = True\n",
    "train_dataloader, test_dataloader, val_dataloader = get_dataloaders(\n",
    "    args, accept_list, resize=28)\n",
    "\n",
    "args.save_model = \"/home/rachel/ornet/models/roi_base_adam_0.0001_64_False_300.pth\"\n",
    "checkpoint = torch.load(args.save_model)\n",
    "model.load_state_dict(checkpoint['state_dict'])\n",
    "print(\"Testing\")\n",
    "test(args, model, test_dataloader, device=device)\n",
    "\n",
    "loader_dict = {\n",
    "            \"train\": train_dataloader, \"test\": test_dataloader, \"val\": val_dataloader\n",
    "        }\n",
    "feats = get_deep_features(args, model, loader_dict, device=device)\n",
    "run_benchmarks(feats)"
   ]
  },
  {
   "cell_type": "code",
   "execution_count": null,
   "metadata": {},
   "outputs": [],
   "source": []
  }
 ],
 "metadata": {
  "interpreter": {
   "hash": "a690693c1fdd9d71c81918a527effb7319205501255b3eea75f291099e2d6564"
  },
  "kernelspec": {
   "display_name": "Python 3.9.7 ('ornet')",
   "language": "python",
   "name": "python3"
  },
  "language_info": {
   "codemirror_mode": {
    "name": "ipython",
    "version": 3
   },
   "file_extension": ".py",
   "mimetype": "text/x-python",
   "name": "python",
   "nbconvert_exporter": "python",
   "pygments_lexer": "ipython3",
   "version": "3.9.7"
  },
  "orig_nbformat": 4
 },
 "nbformat": 4,
 "nbformat_minor": 2
}
