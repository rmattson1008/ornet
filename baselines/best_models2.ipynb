{
 "cells": [
  {
   "cell_type": "code",
   "execution_count": 1,
   "metadata": {},
   "outputs": [
    {
     "name": "stderr",
     "output_type": "stream",
     "text": [
      "/home/rachel/anaconda3/envs/ornet/lib/python3.9/site-packages/tqdm/auto.py:22: TqdmWarning: IProgress not found. Please update jupyter and ipywidgets. See https://ipywidgets.readthedocs.io/en/stable/user_install.html\n",
      "  from .autonotebook import tqdm as notebook_tqdm\n"
     ]
    }
   ],
   "source": [
    "import os\n",
    "import torch\n",
    "\n",
    "from models import BaseCNN, VGG_Model, ResNet18, ResBlock\n",
    "from parsing_utils import make_parser\n",
    "\n",
    "from cnn_driver import test, get_dataloaders, get_deep_features\n",
    "from benchmarks import run_benchmarks\n",
    "\n",
    "\n",
    "\n"
   ]
  },
  {
   "cell_type": "markdown",
   "metadata": {},
   "source": [
    "[hparams table - google sheets link](https://docs.google.com/spreadsheets/d/1XOCA3YayXT9NfAM0j9SgO9KCypA4LZj766u6BDgU_UE/edit?usp=sharing)\n",
    "\n",
    "[tensorboard training data - adam](https://tensorboard.dev/experiment/BMkn3PX8RAe6QrzwpWLd4g/)\n"
   ]
  },
  {
   "cell_type": "code",
   "execution_count": 3,
   "metadata": {},
   "outputs": [],
   "source": [
    "args, _ = make_parser()\n",
    "args.input_dir = \"/data/ornet/single_cells_cnns\"\n",
    "device = 'cpu' if args.cuda == 0 or not torch.cuda.is_available() else 'cuda'\n",
    "device = torch.device(device)\n",
    "\n",
    "if device == 'cuda':\n",
    "    torch.cuda.manual_seed_all(73)\n",
    "else:\n",
    "    torch.manual_seed(73)\n",
    "\n",
    "path_to_intermediates = \"/data/ornet/gmm_intermediates\"\n",
    "accept_list = []\n",
    "for subdir in args.classes:\n",
    "    path = os.path.join(path_to_intermediates, subdir)\n",
    "    files = os.listdir(path)\n",
    "    accept_list.extend([x.split(\".\")[0]\n",
    "                        for x in files if 'normalized' in x])"
   ]
  },
  {
   "cell_type": "markdown",
   "metadata": {},
   "source": [
    "### Resnet"
   ]
  },
  {
   "cell_type": "markdown",
   "metadata": {},
   "source": [
    "Best Global model\n",
    "Hparams:    \n",
    "- Lr = 0.0001\n",
    "- batch_size = 64\n",
    "- Shuffle =\t0\t\n"
   ]
  },
  {
   "cell_type": "code",
   "execution_count": 13,
   "metadata": {},
   "outputs": [
    {
     "name": "stdout",
     "output_type": "stream",
     "text": [
      "Using global image inputs\n",
      "/data/ornet/single_cells_cnns\n"
     ]
    },
    {
     "ename": "RuntimeError",
     "evalue": "Error(s) in loading state_dict for ResNet18:\n\tMissing key(s) in state_dict: \"final_rep_layer.0.weight\", \"final_rep_layer.0.bias\", \"final_rep_layer.2.weight\", \"final_rep_layer.2.bias\", \"final_rep_layer.4.weight\", \"final_rep_layer.4.bias\". \n\tUnexpected key(s) in state_dict: \"final_rep_layer.weight\", \"final_rep_layer.bias\". ",
     "output_type": "error",
     "traceback": [
      "\u001b[0;31m---------------------------------------------------------------------------\u001b[0m",
      "\u001b[0;31mRuntimeError\u001b[0m                              Traceback (most recent call last)",
      "\u001b[1;32m/home/rachel/ornet/benchmarks/best_models2.ipynb Cell 6'\u001b[0m in \u001b[0;36m<cell line: 9>\u001b[0;34m()\u001b[0m\n\u001b[1;32m      <a href='vscode-notebook-cell://ssh-remote%2B7b22686f73744e616d65223a226c6f67616e2e63732e7567612e656475222c2275736572223a2272616368656c227d/home/rachel/ornet/benchmarks/best_models2.ipynb#ch0000005vscode-remote?line=6'>7</a>\u001b[0m args\u001b[39m.\u001b[39msave_model \u001b[39m=\u001b[39m \u001b[39m\"\u001b[39m\u001b[39m/home/rachel/ornet/keep_models/glob_res_0.0001_16_True_4898.pth\u001b[39m\u001b[39m\"\u001b[39m\n\u001b[1;32m      <a href='vscode-notebook-cell://ssh-remote%2B7b22686f73744e616d65223a226c6f67616e2e63732e7567612e656475222c2275736572223a2272616368656c227d/home/rachel/ornet/benchmarks/best_models2.ipynb#ch0000005vscode-remote?line=7'>8</a>\u001b[0m checkpoint \u001b[39m=\u001b[39m torch\u001b[39m.\u001b[39mload(args\u001b[39m.\u001b[39msave_model)\n\u001b[0;32m----> <a href='vscode-notebook-cell://ssh-remote%2B7b22686f73744e616d65223a226c6f67616e2e63732e7567612e656475222c2275736572223a2272616368656c227d/home/rachel/ornet/benchmarks/best_models2.ipynb#ch0000005vscode-remote?line=8'>9</a>\u001b[0m model\u001b[39m.\u001b[39;49mload_state_dict(checkpoint[\u001b[39m'\u001b[39;49m\u001b[39mstate_dict\u001b[39;49m\u001b[39m'\u001b[39;49m])\n\u001b[1;32m     <a href='vscode-notebook-cell://ssh-remote%2B7b22686f73744e616d65223a226c6f67616e2e63732e7567612e656475222c2275736572223a2272616368656c227d/home/rachel/ornet/benchmarks/best_models2.ipynb#ch0000005vscode-remote?line=9'>10</a>\u001b[0m \u001b[39mprint\u001b[39m(\u001b[39m\"\u001b[39m\u001b[39mTesting\u001b[39m\u001b[39m\"\u001b[39m)\n\u001b[1;32m     <a href='vscode-notebook-cell://ssh-remote%2B7b22686f73744e616d65223a226c6f67616e2e63732e7567612e656475222c2275736572223a2272616368656c227d/home/rachel/ornet/benchmarks/best_models2.ipynb#ch0000005vscode-remote?line=10'>11</a>\u001b[0m test(args, model, test_dataloader, device\u001b[39m=\u001b[39mdevice)\n",
      "File \u001b[0;32m~/anaconda3/envs/ornet/lib/python3.9/site-packages/torch/nn/modules/module.py:1497\u001b[0m, in \u001b[0;36mModule.load_state_dict\u001b[0;34m(self, state_dict, strict)\u001b[0m\n\u001b[1;32m   <a href='file:///home/rachel/anaconda3/envs/ornet/lib/python3.9/site-packages/torch/nn/modules/module.py?line=1491'>1492</a>\u001b[0m         error_msgs\u001b[39m.\u001b[39minsert(\n\u001b[1;32m   <a href='file:///home/rachel/anaconda3/envs/ornet/lib/python3.9/site-packages/torch/nn/modules/module.py?line=1492'>1493</a>\u001b[0m             \u001b[39m0\u001b[39m, \u001b[39m'\u001b[39m\u001b[39mMissing key(s) in state_dict: \u001b[39m\u001b[39m{}\u001b[39;00m\u001b[39m. \u001b[39m\u001b[39m'\u001b[39m\u001b[39m.\u001b[39mformat(\n\u001b[1;32m   <a href='file:///home/rachel/anaconda3/envs/ornet/lib/python3.9/site-packages/torch/nn/modules/module.py?line=1493'>1494</a>\u001b[0m                 \u001b[39m'\u001b[39m\u001b[39m, \u001b[39m\u001b[39m'\u001b[39m\u001b[39m.\u001b[39mjoin(\u001b[39m'\u001b[39m\u001b[39m\"\u001b[39m\u001b[39m{}\u001b[39;00m\u001b[39m\"\u001b[39m\u001b[39m'\u001b[39m\u001b[39m.\u001b[39mformat(k) \u001b[39mfor\u001b[39;00m k \u001b[39min\u001b[39;00m missing_keys)))\n\u001b[1;32m   <a href='file:///home/rachel/anaconda3/envs/ornet/lib/python3.9/site-packages/torch/nn/modules/module.py?line=1495'>1496</a>\u001b[0m \u001b[39mif\u001b[39;00m \u001b[39mlen\u001b[39m(error_msgs) \u001b[39m>\u001b[39m \u001b[39m0\u001b[39m:\n\u001b[0;32m-> <a href='file:///home/rachel/anaconda3/envs/ornet/lib/python3.9/site-packages/torch/nn/modules/module.py?line=1496'>1497</a>\u001b[0m     \u001b[39mraise\u001b[39;00m \u001b[39mRuntimeError\u001b[39;00m(\u001b[39m'\u001b[39m\u001b[39mError(s) in loading state_dict for \u001b[39m\u001b[39m{}\u001b[39;00m\u001b[39m:\u001b[39m\u001b[39m\\n\u001b[39;00m\u001b[39m\\t\u001b[39;00m\u001b[39m{}\u001b[39;00m\u001b[39m'\u001b[39m\u001b[39m.\u001b[39mformat(\n\u001b[1;32m   <a href='file:///home/rachel/anaconda3/envs/ornet/lib/python3.9/site-packages/torch/nn/modules/module.py?line=1497'>1498</a>\u001b[0m                        \u001b[39mself\u001b[39m\u001b[39m.\u001b[39m\u001b[39m__class__\u001b[39m\u001b[39m.\u001b[39m\u001b[39m__name__\u001b[39m, \u001b[39m\"\u001b[39m\u001b[39m\\n\u001b[39;00m\u001b[39m\\t\u001b[39;00m\u001b[39m\"\u001b[39m\u001b[39m.\u001b[39mjoin(error_msgs)))\n\u001b[1;32m   <a href='file:///home/rachel/anaconda3/envs/ornet/lib/python3.9/site-packages/torch/nn/modules/module.py?line=1498'>1499</a>\u001b[0m \u001b[39mreturn\u001b[39;00m _IncompatibleKeys(missing_keys, unexpected_keys)\n",
      "\u001b[0;31mRuntimeError\u001b[0m: Error(s) in loading state_dict for ResNet18:\n\tMissing key(s) in state_dict: \"final_rep_layer.0.weight\", \"final_rep_layer.0.bias\", \"final_rep_layer.2.weight\", \"final_rep_layer.2.bias\", \"final_rep_layer.4.weight\", \"final_rep_layer.4.bias\". \n\tUnexpected key(s) in state_dict: \"final_rep_layer.weight\", \"final_rep_layer.bias\". "
     ]
    }
   ],
   "source": [
    "model = ResNet18(in_channels=2, resblock=ResBlock, outputs=3)\n",
    "model.to(device)\n",
    "args.roi = False\n",
    "train_dataloader, test_dataloader, val_dataloader = get_dataloaders(\n",
    "    args, accept_list, resize=212)\n",
    "\n",
    "args.save_model = \"/home/rachel/ornet/keep_models/glob_res_adam_0.0001_64_False_500.pth\"\n",
    "checkpoint = torch.load(args.save_model)\n",
    "model.load_state_dict(checkpoint['state_dict'])\n",
    "print(\"Testing\")\n",
    "test(args, model, test_dataloader, device=device)\n",
    "\n",
    "loader_dict = {\n",
    "            \"train\": train_dataloader, \"test\": test_dataloader, \"val\": val_dataloader\n",
    "        }\n",
    "feats = get_deep_features(args, model, loader_dict, device=device)\n",
    "run_benchmarks(feats)"
   ]
  },
  {
   "cell_type": "markdown",
   "metadata": {},
   "source": [
    "Best Local model\n",
    "Hparams:    \n",
    "- Lr = 0.001\n",
    "- batch_size = 64\n",
    "- Shuffle =\t1\n"
   ]
  },
  {
   "cell_type": "code",
   "execution_count": 11,
   "metadata": {},
   "outputs": [
    {
     "name": "stdout",
     "output_type": "stream",
     "text": [
      "Using ROI inputs\n",
      "/data/ornet/single_cells_cnns\n"
     ]
    },
    {
     "ename": "FileNotFoundError",
     "evalue": "[Errno 2] No such file or directory: '/home/rachel/ornet/keep_models/roi_res_adam_0.001_64_True_300.pth'",
     "output_type": "error",
     "traceback": [
      "\u001b[0;31m---------------------------------------------------------------------------\u001b[0m",
      "\u001b[0;31mFileNotFoundError\u001b[0m                         Traceback (most recent call last)",
      "\u001b[1;32m/home/rachel/ornet/benchmarks/best_models2.ipynb Cell 8'\u001b[0m in \u001b[0;36m<cell line: 8>\u001b[0;34m()\u001b[0m\n\u001b[1;32m      <a href='vscode-notebook-cell://ssh-remote%2B7b22686f73744e616d65223a226c6f67616e2e63732e7567612e656475222c2275736572223a2272616368656c227d/home/rachel/ornet/benchmarks/best_models2.ipynb#ch0000007vscode-remote?line=4'>5</a>\u001b[0m train_dataloader, test_dataloader, val_dataloader \u001b[39m=\u001b[39m get_dataloaders(\n\u001b[1;32m      <a href='vscode-notebook-cell://ssh-remote%2B7b22686f73744e616d65223a226c6f67616e2e63732e7567612e656475222c2275736572223a2272616368656c227d/home/rachel/ornet/benchmarks/best_models2.ipynb#ch0000007vscode-remote?line=5'>6</a>\u001b[0m     args, accept_list, resize\u001b[39m=\u001b[39m\u001b[39m228\u001b[39m)\n\u001b[1;32m      <a href='vscode-notebook-cell://ssh-remote%2B7b22686f73744e616d65223a226c6f67616e2e63732e7567612e656475222c2275736572223a2272616368656c227d/home/rachel/ornet/benchmarks/best_models2.ipynb#ch0000007vscode-remote?line=6'>7</a>\u001b[0m args\u001b[39m.\u001b[39msave_model \u001b[39m=\u001b[39m \u001b[39m\"\u001b[39m\u001b[39m/home/rachel/ornet/keep_models/roi_res_adam_0.001_64_True_300.pth\u001b[39m\u001b[39m\"\u001b[39m\n\u001b[0;32m----> <a href='vscode-notebook-cell://ssh-remote%2B7b22686f73744e616d65223a226c6f67616e2e63732e7567612e656475222c2275736572223a2272616368656c227d/home/rachel/ornet/benchmarks/best_models2.ipynb#ch0000007vscode-remote?line=7'>8</a>\u001b[0m checkpoint \u001b[39m=\u001b[39m torch\u001b[39m.\u001b[39;49mload(args\u001b[39m.\u001b[39;49msave_model)\n\u001b[1;32m      <a href='vscode-notebook-cell://ssh-remote%2B7b22686f73744e616d65223a226c6f67616e2e63732e7567612e656475222c2275736572223a2272616368656c227d/home/rachel/ornet/benchmarks/best_models2.ipynb#ch0000007vscode-remote?line=8'>9</a>\u001b[0m model\u001b[39m.\u001b[39mload_state_dict(checkpoint[\u001b[39m'\u001b[39m\u001b[39mstate_dict\u001b[39m\u001b[39m'\u001b[39m])\n\u001b[1;32m     <a href='vscode-notebook-cell://ssh-remote%2B7b22686f73744e616d65223a226c6f67616e2e63732e7567612e656475222c2275736572223a2272616368656c227d/home/rachel/ornet/benchmarks/best_models2.ipynb#ch0000007vscode-remote?line=9'>10</a>\u001b[0m \u001b[39mprint\u001b[39m(\u001b[39m\"\u001b[39m\u001b[39mTesting\u001b[39m\u001b[39m\"\u001b[39m)\n",
      "File \u001b[0;32m~/anaconda3/envs/ornet/lib/python3.9/site-packages/torch/serialization.py:699\u001b[0m, in \u001b[0;36mload\u001b[0;34m(f, map_location, pickle_module, **pickle_load_args)\u001b[0m\n\u001b[1;32m    <a href='file:///home/rachel/anaconda3/envs/ornet/lib/python3.9/site-packages/torch/serialization.py?line=695'>696</a>\u001b[0m \u001b[39mif\u001b[39;00m \u001b[39m'\u001b[39m\u001b[39mencoding\u001b[39m\u001b[39m'\u001b[39m \u001b[39mnot\u001b[39;00m \u001b[39min\u001b[39;00m pickle_load_args\u001b[39m.\u001b[39mkeys():\n\u001b[1;32m    <a href='file:///home/rachel/anaconda3/envs/ornet/lib/python3.9/site-packages/torch/serialization.py?line=696'>697</a>\u001b[0m     pickle_load_args[\u001b[39m'\u001b[39m\u001b[39mencoding\u001b[39m\u001b[39m'\u001b[39m] \u001b[39m=\u001b[39m \u001b[39m'\u001b[39m\u001b[39mutf-8\u001b[39m\u001b[39m'\u001b[39m\n\u001b[0;32m--> <a href='file:///home/rachel/anaconda3/envs/ornet/lib/python3.9/site-packages/torch/serialization.py?line=698'>699</a>\u001b[0m \u001b[39mwith\u001b[39;00m _open_file_like(f, \u001b[39m'\u001b[39;49m\u001b[39mrb\u001b[39;49m\u001b[39m'\u001b[39;49m) \u001b[39mas\u001b[39;00m opened_file:\n\u001b[1;32m    <a href='file:///home/rachel/anaconda3/envs/ornet/lib/python3.9/site-packages/torch/serialization.py?line=699'>700</a>\u001b[0m     \u001b[39mif\u001b[39;00m _is_zipfile(opened_file):\n\u001b[1;32m    <a href='file:///home/rachel/anaconda3/envs/ornet/lib/python3.9/site-packages/torch/serialization.py?line=700'>701</a>\u001b[0m         \u001b[39m# The zipfile reader is going to advance the current file position.\u001b[39;00m\n\u001b[1;32m    <a href='file:///home/rachel/anaconda3/envs/ornet/lib/python3.9/site-packages/torch/serialization.py?line=701'>702</a>\u001b[0m         \u001b[39m# If we want to actually tail call to torch.jit.load, we need to\u001b[39;00m\n\u001b[1;32m    <a href='file:///home/rachel/anaconda3/envs/ornet/lib/python3.9/site-packages/torch/serialization.py?line=702'>703</a>\u001b[0m         \u001b[39m# reset back to the original position.\u001b[39;00m\n\u001b[1;32m    <a href='file:///home/rachel/anaconda3/envs/ornet/lib/python3.9/site-packages/torch/serialization.py?line=703'>704</a>\u001b[0m         orig_position \u001b[39m=\u001b[39m opened_file\u001b[39m.\u001b[39mtell()\n",
      "File \u001b[0;32m~/anaconda3/envs/ornet/lib/python3.9/site-packages/torch/serialization.py:231\u001b[0m, in \u001b[0;36m_open_file_like\u001b[0;34m(name_or_buffer, mode)\u001b[0m\n\u001b[1;32m    <a href='file:///home/rachel/anaconda3/envs/ornet/lib/python3.9/site-packages/torch/serialization.py?line=228'>229</a>\u001b[0m \u001b[39mdef\u001b[39;00m \u001b[39m_open_file_like\u001b[39m(name_or_buffer, mode):\n\u001b[1;32m    <a href='file:///home/rachel/anaconda3/envs/ornet/lib/python3.9/site-packages/torch/serialization.py?line=229'>230</a>\u001b[0m     \u001b[39mif\u001b[39;00m _is_path(name_or_buffer):\n\u001b[0;32m--> <a href='file:///home/rachel/anaconda3/envs/ornet/lib/python3.9/site-packages/torch/serialization.py?line=230'>231</a>\u001b[0m         \u001b[39mreturn\u001b[39;00m _open_file(name_or_buffer, mode)\n\u001b[1;32m    <a href='file:///home/rachel/anaconda3/envs/ornet/lib/python3.9/site-packages/torch/serialization.py?line=231'>232</a>\u001b[0m     \u001b[39melse\u001b[39;00m:\n\u001b[1;32m    <a href='file:///home/rachel/anaconda3/envs/ornet/lib/python3.9/site-packages/torch/serialization.py?line=232'>233</a>\u001b[0m         \u001b[39mif\u001b[39;00m \u001b[39m'\u001b[39m\u001b[39mw\u001b[39m\u001b[39m'\u001b[39m \u001b[39min\u001b[39;00m mode:\n",
      "File \u001b[0;32m~/anaconda3/envs/ornet/lib/python3.9/site-packages/torch/serialization.py:212\u001b[0m, in \u001b[0;36m_open_file.__init__\u001b[0;34m(self, name, mode)\u001b[0m\n\u001b[1;32m    <a href='file:///home/rachel/anaconda3/envs/ornet/lib/python3.9/site-packages/torch/serialization.py?line=210'>211</a>\u001b[0m \u001b[39mdef\u001b[39;00m \u001b[39m__init__\u001b[39m(\u001b[39mself\u001b[39m, name, mode):\n\u001b[0;32m--> <a href='file:///home/rachel/anaconda3/envs/ornet/lib/python3.9/site-packages/torch/serialization.py?line=211'>212</a>\u001b[0m     \u001b[39msuper\u001b[39m(_open_file, \u001b[39mself\u001b[39m)\u001b[39m.\u001b[39m\u001b[39m__init__\u001b[39m(\u001b[39mopen\u001b[39;49m(name, mode))\n",
      "\u001b[0;31mFileNotFoundError\u001b[0m: [Errno 2] No such file or directory: '/home/rachel/ornet/keep_models/roi_res_adam_0.001_64_True_300.pth'"
     ]
    }
   ],
   "source": [
    "## retrain\n",
    "model = ResNet18(in_channels=2, resblock=ResBlock, outputs=3)\n",
    "model.to(device)\n",
    "args.roi = True\n",
    "train_dataloader, test_dataloader, val_dataloader = get_dataloaders(\n",
    "    args, accept_list, resize=228)\n",
    "args.save_model = \"/home/rachel/ornet/keep_models/roi_res_adam_0.001_64_True_300.pth\"\n",
    "checkpoint = torch.load(args.save_model)\n",
    "model.load_state_dict(checkpoint['state_dict'])\n",
    "print(\"Testing\")\n",
    "test(args, model, test_dataloader, device=device)\n",
    "loader_dict = {\n",
    "            \"train\": train_dataloader, \"test\": test_dataloader, \"val\": val_dataloader\n",
    "        }\n",
    "feats = get_deep_features(args, model, loader_dict, device=device)\n",
    "run_benchmarks(feats)"
   ]
  },
  {
   "cell_type": "markdown",
   "metadata": {},
   "source": [
    "## Basic CNN"
   ]
  },
  {
   "cell_type": "markdown",
   "metadata": {},
   "source": [
    "Best Global model\n",
    "- 0.001\n",
    "- 64\n",
    "- False\n",
    "\n",
    "and\n",
    "\n",
    "-0.00001\n",
    "- 64\n",
    "- Shufle\n",
    "- wd 0"
   ]
  },
  {
   "cell_type": "code",
   "execution_count": 8,
   "metadata": {},
   "outputs": [
    {
     "name": "stdout",
     "output_type": "stream",
     "text": [
      "Using global image inputs\n",
      "/data/ornet/single_cells_cnns\n",
      "Testing\n",
      "Accuracy: tensor(0.5833, device='cuda:0')\n",
      "['control', 'mdivi', 'llo']\n",
      "[[1 0 2]\n",
      " [0 1 3]\n",
      " [0 0 5]]\n",
      "Getting deep features\n",
      "best performance at epoch 373\n",
      "Benchmarks for MDIVI vs LLO\n",
      "RandomForestClassifier()  accuracy: 0.7777777777777778\n",
      "[[3 1]\n",
      " [1 4]]\n",
      "KNeighborsClassifier() accuracy: 0.4444444444444444\n",
      "[[0 1]\n",
      " [4 4]]\n",
      "DecisionTreeClassifier() accuracy: 0.7777777777777778\n",
      "[[3 1]\n",
      " [1 4]]\n",
      "Benchmarks for Control vs LLO\n",
      "RandomForestClassifier()  accuracy: 0.625\n",
      "[[2 2]\n",
      " [1 3]]\n",
      "KNeighborsClassifier() accuracy: 0.375\n",
      "[[0 2]\n",
      " [3 3]]\n",
      "DecisionTreeClassifier() accuracy: 0.5\n",
      "[[1 2]\n",
      " [2 3]]\n",
      "Benchmarks for MDIVI vs Control\n",
      "RandomForestClassifier()  accuracy: 0.7142857142857143\n",
      "[[2 1]\n",
      " [1 3]]\n",
      "KNeighborsClassifier() accuracy: 0.8571428571428571\n",
      "[[2 0]\n",
      " [1 4]]\n",
      "DecisionTreeClassifier() accuracy: 0.8571428571428571\n",
      "[[2 0]\n",
      " [1 4]]\n"
     ]
    }
   ],
   "source": [
    "model = BaseCNN()\n",
    "model.to(device)\n",
    "args.roi = False\n",
    "train_dataloader, test_dataloader, val_dataloader = get_dataloaders(\n",
    "    args, accept_list, resize=28)\n",
    "\n",
    "# args.save_model = \"/home/rachel/ornet/models/glob_base_adam_0.001_64_False_300.pth\"\n",
    "# args.save_model = \"/home/rachel/ornet/keep_models/glob_base_adam7_1e-05_64_True_500.pth\"\n",
    "# args.save_model = \"/home/rachel/ornet/models/glob_base_adam8_1e-05_64_True_1000_0.0.pth\"\n",
    "\n",
    "# args.save_model = \"/home/rachel/ornet/models/glob_base_adam9_0.0001_64_True_500_0.01.pth\"\n",
    "# args.save_model = \"/home/rachel/ornet/models/glob_base_adam9_0.0001_16_True_500_0.1.pth\"\n",
    "args.save_model = \"/home/rachel/ornet/models/glob_base_adam9_1e-05_64_True_500_0.1.pth\"\n",
    "checkpoint = torch.load(args.save_model)\n",
    "model.load_state_dict(checkpoint['state_dict'])\n",
    "print(\"Testing\")\n",
    "test(args, model, test_dataloader, device=device)\n",
    "\n",
    "loader_dict = {\n",
    "            \"train\": train_dataloader, \"test\": test_dataloader, \"val\": val_dataloader\n",
    "        }\n",
    "feats = get_deep_features(args, model, loader_dict, device=device)\n",
    "run_benchmarks(feats)"
   ]
  },
  {
   "cell_type": "markdown",
   "metadata": {},
   "source": [
    "Best on Local\n",
    "\n",
    "- 0.0001\n",
    "- 64\n",
    "- False"
   ]
  },
  {
   "cell_type": "code",
   "execution_count": 7,
   "metadata": {},
   "outputs": [
    {
     "name": "stdout",
     "output_type": "stream",
     "text": [
      "Using ROI inputs\n",
      "/data/ornet/single_cells_cnns\n",
      "Testing\n",
      "Accuracy: tensor(0.6667, device='cuda:0')\n",
      "['control', 'mdivi', 'llo']\n",
      "[[2 0 1]\n",
      " [1 1 2]\n",
      " [0 0 5]]\n",
      "Getting deep features\n",
      "best performance at epoch 144\n",
      "Benchmarks for MDIVI vs LLO\n",
      "RandomForestClassifier()  accuracy: 0.5555555555555556\n",
      "[[0 0]\n",
      " [4 5]]\n",
      "KNeighborsClassifier() accuracy: 0.6666666666666666\n",
      "[[1 0]\n",
      " [3 5]]\n",
      "DecisionTreeClassifier() accuracy: 0.5555555555555556\n",
      "[[0 0]\n",
      " [4 5]]\n",
      "Benchmarks for Control vs LLO\n",
      "RandomForestClassifier()  accuracy: 0.75\n",
      "[[1 0]\n",
      " [2 5]]\n",
      "KNeighborsClassifier() accuracy: 0.875\n",
      "[[2 0]\n",
      " [1 5]]\n",
      "DecisionTreeClassifier() accuracy: 0.75\n",
      "[[1 0]\n",
      " [2 5]]\n",
      "Benchmarks for MDIVI vs Control\n",
      "RandomForestClassifier()  accuracy: 0.7142857142857143\n",
      "[[3 2]\n",
      " [0 2]]\n",
      "KNeighborsClassifier() accuracy: 0.7142857142857143\n",
      "[[3 2]\n",
      " [0 2]]\n",
      "DecisionTreeClassifier() accuracy: 0.5714285714285714\n",
      "[[3 3]\n",
      " [0 1]]\n"
     ]
    }
   ],
   "source": [
    "model = BaseCNN()\n",
    "model.to(device)\n",
    "args.roi = True\n",
    "train_dataloader, test_dataloader, val_dataloader = get_dataloaders(\n",
    "    args, accept_list, resize=28)\n",
    "\n",
    "# args.save_model = \"/home/rachel/ornet/models/roi_base_adam_0.0001_64_False_300.pth\"\n",
    "# args.save_model = \"/home/rachel/ornet/keep_models/roi_base_adam7_0.0001_64_True_500.pth\"\n",
    "args.save_model = \"/home/rachel/ornet/models/roi_base_adam8_ws_0.0001_64_False_500_0.01.pth\"\n",
    "\n",
    "checkpoint = torch.load(args.save_model)\n",
    "model.load_state_dict(checkpoint['state_dict'])\n",
    "print(\"Testing\")\n",
    "test(args, model, test_dataloader, device=device)\n",
    "\n",
    "loader_dict = {\n",
    "            \"train\": train_dataloader, \"test\": test_dataloader, \"val\": val_dataloader\n",
    "        }\n",
    "feats = get_deep_features(args, model, loader_dict, device=device)\n",
    "run_benchmarks(feats)"
   ]
  },
  {
   "cell_type": "code",
   "execution_count": null,
   "metadata": {},
   "outputs": [],
   "source": []
  },
  {
   "cell_type": "code",
   "execution_count": null,
   "metadata": {},
   "outputs": [],
   "source": []
  },
  {
   "cell_type": "code",
   "execution_count": null,
   "metadata": {},
   "outputs": [],
   "source": []
  }
 ],
 "metadata": {
  "interpreter": {
   "hash": "a690693c1fdd9d71c81918a527effb7319205501255b3eea75f291099e2d6564"
  },
  "kernelspec": {
   "display_name": "Python 3.9.7 ('ornet')",
   "language": "python",
   "name": "python3"
  },
  "language_info": {
   "codemirror_mode": {
    "name": "ipython",
    "version": 3
   },
   "file_extension": ".py",
   "mimetype": "text/x-python",
   "name": "python",
   "nbconvert_exporter": "python",
   "pygments_lexer": "ipython3",
   "version": "3.9.7"
  },
  "orig_nbformat": 4
 },
 "nbformat": 4,
 "nbformat_minor": 2
}
