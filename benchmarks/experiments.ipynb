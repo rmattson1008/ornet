{
 "cells": [
  {
   "cell_type": "markdown",
   "metadata": {},
   "source": [
    "## Experiments - May 20, 2022\n",
    "\n",
    "benchmarks better if you gas the model and let it overfit. d.\n",
    "\n",
    "Hyperparam choices:\n",
    "\n",
    "Criterion = CrossEntropyLoss  \n",
    "Optimizer = SGD\n",
    "num_epochs = 400-600 depending on what it takes to converge  \n",
    "Random split generator seeded: 73    \n",
    "batch_size = 10\n",
    "<!-- \n",
    "### methods\n",
    "- [benchmarks](#benchmarks)\n",
    "- [plots](#plots)\n",
    "- [model args](#args) -->\n",
    "  \n",
    "\n",
    "### [Global Image](#1.1)\n",
    "1. unweighted \n",
    "    - 1.1 [Base CNN - scaled down to 28x28](#1.1)\n",
    "    - 1.2 [ResNet - scaled down to 212x212](#1.2)\n",
    "\n",
    "2. weighted sample\n",
    "    - 2.1 [Base CNN - scaled  down to 28x28](#2.1)\n",
    "    - 2.2 [ResNet - scaled down to 212x212](#2.2)\n",
    "\n",
    "### [Local ROI](#3.1)\n",
    "3. unweighted\n",
    "    - 3.1 [Base CNN - cropped 28x28 roi](#3.1)\n",
    "    - 3.2 [ResNet - roi interpolated/scaled up to 212x212](#3.2)\n",
    "\n",
    "4. weighted sampling\n",
    "    - 4.1 [Base CNN - cropped 28x28 roi](#4.1)\n",
    "    - 4.2 [ResNet - roi interpolated/scaled up to 212x212](#4.2)\n",
    "\n",
    "\n",
    "Experiments TBD - cnn-lstm. factors are weighted sampling +/-, sequence length like 1-50, can swap in resnet or pretrain some.\n",
    "\n",
    "\n"
   ]
  },
  {
   "cell_type": "code",
   "execution_count": 41,
   "metadata": {},
   "outputs": [],
   "source": [
    "import os\n",
    "import torch\n",
    "from cnn_driver import train, test, get_dataloaders, get_deep_features\n",
    "from parsing_utils import make_parser\n",
    "from models import BaseCNN, VGG_Model, ResNet18, ResBlock\n",
    "\n",
    "from torch.optim import Adam, SGD\n",
    "from torch.nn import CrossEntropyLoss\n",
    "import pickle\n",
    "import matplotlib.pyplot as plt\n",
    "\n",
    "\n",
    "import numpy as np\n",
    "import pandas as pd\n",
    "from sklearn.model_selection import train_test_split\n",
    "from sklearn.ensemble import RandomForestClassifier\n",
    "from sklearn import tree\n",
    "from sklearn.neighbors import KNeighborsClassifier\n",
    "from sklearn.metrics import confusion_matrix\n",
    "from imblearn.over_sampling import SMOTE\n",
    "\n"
   ]
  },
  {
   "cell_type": "markdown",
   "metadata": {},
   "source": [
    "### benchmarks\n",
    "<a id='benchmarks'></a>\n"
   ]
  },
  {
   "cell_type": "code",
   "execution_count": 42,
   "metadata": {},
   "outputs": [],
   "source": [
    "def run_benchmarks(path_to_features):\n",
    "\n",
    "    with open(path_to_features, 'rb') as f:\n",
    "        feature_df = pickle.load(f)\n",
    "\n",
    "    X = feature_df.iloc[:, :-1]\n",
    "    y = feature_df['label']\n",
    "\n",
    "    oversample = SMOTE()\n",
    "    X, y = oversample.fit_resample(X, y)\n",
    "\n",
    "    X_train, X_test, y_train, y_test = train_test_split(\n",
    "        X, y, test_size=.2,  random_state=73, shuffle=True, stratify=None)\n",
    "\n",
    "    clf = RandomForestClassifier(max_depth=3, random_state=0)\n",
    "    clf.fit(X_train, y_train)\n",
    "    pred = clf.predict(X_test)\n",
    "    accuracy = np.sum(pred == y_test) / len(y_test)\n",
    "    print(\"RF accuracy:\", accuracy)\n",
    "    cm = confusion_matrix(pred, y_test)\n",
    "    print(cm)\n",
    "\n",
    "    clf = KNeighborsClassifier(n_neighbors=3)\n",
    "    clf.fit(X_train, y_train)\n",
    "    pred = clf.predict(X_test)\n",
    "    accuracy = np.sum(pred == y_test) / len(y_test)\n",
    "    print(\"KNN accuracy\", accuracy)\n",
    "    cm = confusion_matrix(pred, y_test)\n",
    "    print(cm)\n",
    "\n",
    "    clf = tree.DecisionTreeClassifier()\n",
    "    clf.fit(X_train, y_train)\n",
    "    pred = clf.predict(X_test)\n",
    "    accuracy = np.sum(pred == y_test) / len(y_test)\n",
    "    print(\"Decision Tree Accuracy\", accuracy)\n",
    "    cm = confusion_matrix(pred, y_test)\n",
    "    print(cm)\n",
    "\n",
    "    return\n"
   ]
  },
  {
   "cell_type": "markdown",
   "metadata": {},
   "source": [
    "<a id='plots'></a>"
   ]
  },
  {
   "cell_type": "code",
   "execution_count": 24,
   "metadata": {},
   "outputs": [],
   "source": [
    "\n",
    "def plot_losses(path):\n",
    "    print(path)\n",
    "    with open(path, 'rb') as f:\n",
    "        d = pickle.load(f)\n",
    "\n",
    "    t = d[\"train_loss\"]\n",
    "    v = d[\"val_loss\"]\n",
    "    plt.plot(t, '-o')\n",
    "    plt.plot(v, '-o')\n",
    "    plt.xlabel('epoch')\n",
    "    plt.ylabel('accuracy')\n",
    "    plt.ylim((0, 2))\n",
    "    plt.legend(['Train', 'Valid'])\n",
    "    plt.title('Train vs Valid Accuracy')\n"
   ]
  },
  {
   "cell_type": "markdown",
   "metadata": {},
   "source": [
    "<a id='args'></a>"
   ]
  },
  {
   "cell_type": "code",
   "execution_count": 25,
   "metadata": {},
   "outputs": [],
   "source": [
    "class JupyterArgs:\n",
    "    def __init__(self):\n",
    "        self.batch_size = 10\n",
    "        self.roi = False\n",
    "        self.weighted_samples = False\n",
    "        self.cuda = -1\n",
    "        self.lr = 1e-3\n",
    "        self.epochs = 300\n",
    "        self.classes = ['control', 'mdivi', 'llo']\n",
    "        self.input_dir = \"/data/ornet/single_cells_cnns\"\n",
    "        # self.save = True\n",
    "        self.save_dir = \"/home/rachel/ornet/models/\"\n",
    "        self.save_as = \"model1.pth\"\n",
    "        self.train = False\n",
    "        # self.get_features = \"/home/rachel/ornet/representations/\"\n",
    "        self.get_features = False\n",
    "        self.get_losses = \"/home/rachel/ornet/losses/\"\n",
    "\n",
    "\n",
    "args = JupyterArgs()\n"
   ]
  },
  {
   "cell_type": "code",
   "execution_count": 26,
   "metadata": {},
   "outputs": [],
   "source": [
    "\"\"\"\n",
    "we have more segmented cell videos saved on logan then intermediates.\n",
    "best to rerun ornet on raw data, but till discrepancy is resolved this\n",
    "will result in using the 114 samples that Neelima used in the last scipy submit\n",
    "class balance 29, 31, 54\n",
    "\"\"\"\n",
    "path_to_intermediates = \"/data/ornet/gmm_intermediates\"\n",
    "accept_list = []\n",
    "for subdir in args.classes:\n",
    "    path = os.path.join(path_to_intermediates, subdir)\n",
    "    for file in os.listdir(path):\n",
    "        if 'normalized' in file:\n",
    "            accept_list.append(file.split(\".\")[0])\n",
    "\n",
    "device = 'cpu' if not torch.cuda.is_available() else 'cuda'\n",
    "device = torch.device(device)\n"
   ]
  },
  {
   "cell_type": "code",
   "execution_count": 27,
   "metadata": {},
   "outputs": [
    {
     "data": {
      "text/plain": [
       "device(type='cuda')"
      ]
     },
     "execution_count": 27,
     "metadata": {},
     "output_type": "execute_result"
    }
   ],
   "source": [
    "root_dir = \"/home/rachel/ornet/\"\n",
    "device\n"
   ]
  },
  {
   "cell_type": "markdown",
   "metadata": {},
   "source": [
    "### Global image\n",
    "\n",
    "<a id='1.1'></a>\n",
    "1.1"
   ]
  },
  {
   "cell_type": "code",
   "execution_count": 28,
   "metadata": {},
   "outputs": [
    {
     "name": "stdout",
     "output_type": "stream",
     "text": [
      "Using global image inputs\n",
      "/data/ornet/single_cells_cnns\n",
      "Getting deep features\n",
      "best performance at epoch 181\n",
      "/home/rachel/ornet/losses/global_BaseCNN_unweighted_05-19_v2.pkl\n",
      "Best model at epoch 181\n",
      "Testing\n",
      "Accuracy: tensor(0.6667, device='cuda:0')\n",
      "['control', 'mdivi', 'llo']\n",
      "[[1 0 2]\n",
      " [0 3 1]\n",
      " [1 0 4]]\n",
      "Running benchmarks on deep representation\n",
      "RF accuracy: 0.8181818181818182\n",
      "[[11  0  3]\n",
      " [ 0  8  0]\n",
      " [ 3  0  8]]\n",
      "KNN accuracy 0.7272727272727273\n",
      "[[8 0 1]\n",
      " [4 8 2]\n",
      " [2 0 8]]\n",
      "Decision Tree Accuracy 0.7575757575757576\n",
      "[[9 0 1]\n",
      " [0 7 1]\n",
      " [5 1 9]]\n"
     ]
    },
    {
     "data": {
      "image/png": "[encoded data removed]",
      "text/plain": [
       "<Figure size 432x288 with 1 Axes>"
      ]
     },
     "metadata": {
      "needs_background": "light"
     },
     "output_type": "display_data"
    }
   ],
   "source": [
    "# 1.1\n",
    "# args.save_features = os.path.join(\n",
    "#     root_dir, \"representations/global_BaseCNN_unweighted_05-19.pkl\")\n",
    "# args.save_model = os.path.join(\n",
    "#     root_dir, \"models/global_BaseCNN_unweighted_05-19.pth\")\n",
    "# args.save_losses = os.path.join(\n",
    "#     root_dir, \"losses/global_BaseCNN_unweighted_05-19.pkl\")\n",
    "\n",
    "args.save_features = os.path.join(\n",
    "    root_dir, \"representations/global_BaseCNN_unweighted_05-19_v2.pkl\")\n",
    "args.save_model = os.path.join(\n",
    "    root_dir, \"models/global_BaseCNN_unweighted_05-19_v2.pth\")\n",
    "args.save_losses = os.path.join(\n",
    "    root_dir, \"losses/global_BaseCNN_unweighted_05-19_v2.pkl\")\n",
    "\n",
    "args.roi = False\n",
    "args.weighted_samples = False\n",
    "args.epochs = 6000\n",
    "args.lr = 1e-4\n",
    "\n",
    "train_dataloader, test_dataloader, val_dataloader = get_dataloaders(\n",
    "    args, accept_list, resize=28)\n",
    "\n",
    "model = BaseCNN()\n",
    "# model = ResNet18(in_channels=2, resblock=ResBlock, outputs=3)\n",
    "model.to(device)\n",
    "\n",
    "if args.train:\n",
    "    print(\"Training\")\n",
    "    train(args, model, train_dataloader, val_dataloader, device=device)\n",
    "\n",
    "get_deep_features(args, model, [train_dataloader,\n",
    "                  test_dataloader, val_dataloader], device=device)\n",
    "\n",
    "plot_losses(args.save_losses)\n",
    "\n",
    "checkpoint = torch.load(args.save_model)\n",
    "model.load_state_dict(checkpoint['state_dict'])\n",
    "print(\"Best model at epoch\", checkpoint['epoch'])\n",
    "print(\"Testing\")\n",
    "test(args, model, test_dataloader, device=device)\n",
    "\n",
    "print(\"Running benchmarks on deep representation\")\n",
    "run_benchmarks(args.save_features)\n"
   ]
  },
  {
   "cell_type": "code",
   "execution_count": 29,
   "metadata": {},
   "outputs": [
    {
     "name": "stdout",
     "output_type": "stream",
     "text": [
      "Using global image inputs\n",
      "/data/ornet/single_cells_cnns\n",
      "Getting deep features\n",
      "best performance at epoch 181\n",
      "/home/rachel/ornet/losses/global_BaseCNN_unweighted_05-19_v2.pkl\n",
      "Best model at epoch 181\n",
      "Testing\n",
      "Accuracy: tensor(0.6667, device='cuda:0')\n",
      "['control', 'mdivi', 'llo']\n",
      "[[1 0 2]\n",
      " [0 3 1]\n",
      " [1 0 4]]\n",
      "Running benchmarks on deep representation\n",
      "RF accuracy: 0.7272727272727273\n",
      "[[10  0  3]\n",
      " [ 3  6  0]\n",
      " [ 1  2  8]]\n",
      "KNN accuracy 0.8484848484848485\n",
      "[[12  1  2]\n",
      " [ 1  7  0]\n",
      " [ 1  0  9]]\n",
      "Decision Tree Accuracy 0.8484848484848485\n",
      "[[10  0  0]\n",
      " [ 3  7  0]\n",
      " [ 1  1 11]]\n"
     ]
    },
    {
     "data": {
      "image/png": "[encoded data removed]",
      "text/plain": [
       "<Figure size 432x288 with 1 Axes>"
      ]
     },
     "metadata": {
      "needs_background": "light"
     },
     "output_type": "display_data"
    }
   ],
   "source": [
    "# 1.1\n",
    "# args.save_features = os.path.join(\n",
    "#     root_dir, \"representations/global_BaseCNN_unweighted_05-19.pkl\")\n",
    "# args.save_model = os.path.join(\n",
    "#     root_dir, \"models/global_BaseCNN_unweighted_05-19.pth\")\n",
    "# args.save_losses = os.path.join(\n",
    "#     root_dir, \"losses/global_BaseCNN_unweighted_05-19.pkl\")\n",
    "\n",
    "args.save_features = os.path.join(\n",
    "    root_dir, \"representations/global_BaseCNN_unweighted_05-19_v2.pkl\")\n",
    "args.save_model = os.path.join(\n",
    "    root_dir, \"models/global_BaseCNN_unweighted_05-19_v2.pth\")\n",
    "args.save_losses = os.path.join(\n",
    "    root_dir, \"losses/global_BaseCNN_unweighted_05-19_v2.pkl\")\n",
    "\n",
    "args.roi = False\n",
    "args.weighted_samples = False\n",
    "args.epochs = 1000\n",
    "args.lr = 1e-3\n",
    "\n",
    "train_dataloader, test_dataloader, val_dataloader = get_dataloaders(\n",
    "    args, accept_list, resize=28)\n",
    "\n",
    "model = BaseCNN()\n",
    "# model = ResNet18(in_channels=2, resblock=ResBlock, outputs=3)\n",
    "model.to(device)\n",
    "\n",
    "if args.train:\n",
    "    print(\"Training\")\n",
    "    train(args, model, train_dataloader, val_dataloader, device=device)\n",
    "\n",
    "get_deep_features(args, model, [train_dataloader,\n",
    "                  test_dataloader, val_dataloader], device=device)\n",
    "\n",
    "plot_losses(args.save_losses)\n",
    "\n",
    "checkpoint = torch.load(args.save_model)\n",
    "model.load_state_dict(checkpoint['state_dict'])\n",
    "print(\"Best model at epoch\", checkpoint['epoch'])\n",
    "print(\"Testing\")\n",
    "test(args, model, test_dataloader, device=device)\n",
    "\n",
    "print(\"Running benchmarks on deep representation\")\n",
    "run_benchmarks(args.save_features)\n"
   ]
  },
  {
   "cell_type": "markdown",
   "metadata": {},
   "source": [
    "<a id='1.2'></a>\n",
    "1.2"
   ]
  },
  {
   "cell_type": "code",
   "execution_count": 30,
   "metadata": {},
   "outputs": [
    {
     "name": "stdout",
     "output_type": "stream",
     "text": [
      "Using global image inputs\n",
      "/data/ornet/single_cells_cnns\n",
      "Getting deep features\n",
      "best performance at epoch 106\n",
      "/home/rachel/ornet/losses/global_ResNet_unweighted_05-19.pkl\n",
      "Best model at epoch 106\n",
      "Testing\n",
      "Accuracy: tensor(0.7500, device='cuda:0')\n",
      "['control', 'mdivi', 'llo']\n",
      "[[2 0 1]\n",
      " [1 2 1]\n",
      " [0 0 5]]\n",
      "Running benchmarks on deep representation\n",
      "RF accuracy: 0.8484848484848485\n",
      "[[12  0  2]\n",
      " [ 1  8  1]\n",
      " [ 1  0  8]]\n",
      "KNN accuracy 0.9090909090909091\n",
      "[[14  0  2]\n",
      " [ 0  8  1]\n",
      " [ 0  0  8]]\n",
      "Decision Tree Accuracy 0.8484848484848485\n",
      "[[12  0  2]\n",
      " [ 1  8  1]\n",
      " [ 1  0  8]]\n"
     ]
    },
    {
     "data": {
      "image/png": "[encoded data removed]",
      "text/plain": [
       "<Figure size 432x288 with 1 Axes>"
      ]
     },
     "metadata": {
      "needs_background": "light"
     },
     "output_type": "display_data"
    }
   ],
   "source": [
    "# 1.2\n",
    "args.save_model = os.path.join(\n",
    "    root_dir, \"models/global_ResNet_unweighted_05-19.pth\")\n",
    "args.save_features = os.path.join(\n",
    "    root_dir, \"representations/global_ResNet_unweighted_05-19.pkl\")\n",
    "args.save_losses = os.path.join(\n",
    "    root_dir, \"losses/global_ResNet_unweighted_05-19.pkl\")\n",
    "\n",
    "args.roi = False\n",
    "args.weighted_samples = False\n",
    "args.epochs = 400\n",
    "\n",
    "train_dataloader, test_dataloader, val_dataloader = get_dataloaders(\n",
    "    args, accept_list, resize=224)\n",
    "\n",
    "# model = BaseCNN()\n",
    "model = ResNet18(in_channels=2, resblock=ResBlock, outputs=3)\n",
    "model.to(device)\n",
    "\n",
    "if args.train:\n",
    "    print(\"Training\")\n",
    "    train(args, model, train_dataloader, val_dataloader, device=device)\n",
    "\n",
    "get_deep_features(args, model, [train_dataloader,\n",
    "                  test_dataloader, val_dataloader], device=device)\n",
    "\n",
    "plot_losses(args.save_losses)\n",
    "\n",
    "checkpoint = torch.load(args.save_model)\n",
    "model.load_state_dict(checkpoint['state_dict'])\n",
    "print(\"Best model at epoch\", checkpoint['epoch'])\n",
    "print(\"Testing\")\n",
    "test(args, model, test_dataloader, device=device)\n",
    "\n",
    "print(\"Running benchmarks on deep representation\")\n",
    "run_benchmarks(args.save_features)\n"
   ]
  },
  {
   "cell_type": "code",
   "execution_count": 47,
   "metadata": {},
   "outputs": [
    {
     "name": "stdout",
     "output_type": "stream",
     "text": [
      "Running benchmarks on deep representation\n",
      "RF accuracy: 0.8148148148148148\n",
      "[[ 6  0  0]\n",
      " [ 0 12  2]\n",
      " [ 3  0  4]]\n",
      "KNN accuracy 0.7037037037037037\n",
      "[[ 6  1  2]\n",
      " [ 1 11  2]\n",
      " [ 2  0  2]]\n",
      "Decision Tree Accuracy 0.8148148148148148\n",
      "[[ 7  1  0]\n",
      " [ 0 11  2]\n",
      " [ 2  0  4]]\n"
     ]
    }
   ],
   "source": [
    "print(\"Running benchmarks on deep representation\")\n",
    "run_benchmarks(args.save_features)\n"
   ]
  },
  {
   "cell_type": "markdown",
   "metadata": {},
   "source": [
    "<a id='2.1'></a>\n",
    "2.1"
   ]
  },
  {
   "cell_type": "code",
   "execution_count": 32,
   "metadata": {},
   "outputs": [
    {
     "name": "stdout",
     "output_type": "stream",
     "text": [
      "Using global image inputs\n",
      "/data/ornet/single_cells_cnns\n",
      "using weighted sampling\n",
      "Getting deep features\n",
      "best performance at epoch 280\n",
      "/home/rachel/ornet/losses/global_BaseCNN_weighted_05-19.pkl\n",
      "Best model at epoch 280\n",
      "Testing\n",
      "Accuracy: tensor(0.3333, device='cuda:0')\n",
      "['control', 'mdivi', 'llo']\n",
      "[[0 0 3]\n",
      " [1 1 2]\n",
      " [1 1 3]]\n",
      "Running benchmarks on deep representation\n",
      "RF accuracy: 0.8076923076923077\n",
      "[[8 1 3]\n",
      " [1 7 0]\n",
      " [0 0 6]]\n",
      "KNN accuracy 0.7692307692307693\n",
      "[[8 1 3]\n",
      " [0 7 1]\n",
      " [1 0 5]]\n",
      "Decision Tree Accuracy 0.8461538461538461\n",
      "[[8 0 1]\n",
      " [1 8 2]\n",
      " [0 0 6]]\n"
     ]
    },
    {
     "data": {
      "image/png": "[encoded data removed]",
      "text/plain": [
       "<Figure size 432x288 with 1 Axes>"
      ]
     },
     "metadata": {
      "needs_background": "light"
     },
     "output_type": "display_data"
    }
   ],
   "source": [
    "# 2.1\n",
    "args.save_features = os.path.join(\n",
    "    root_dir, \"representations/global_BaseCNN_weighted_05-19.pkl\")\n",
    "args.save_model = os.path.join(\n",
    "    root_dir, \"models/global_BaseCNN_weighted_05-19.pth\")\n",
    "args.save_losses = os.path.join(\n",
    "    root_dir, \"losses/global_BaseCNN_weighted_05-19.pkl\")\n",
    "\n",
    "args.weighted_samples = True\n",
    "args.roi = False\n",
    "args.lr = 1e-3\n",
    "args.epochs = 600\n",
    "\n",
    "train_dataloader, test_dataloader, val_dataloader = get_dataloaders(\n",
    "    args, accept_list, resize=28)\n",
    "\n",
    "model = BaseCNN()\n",
    "# model = ResNet18(in_channels=2, resblock=ResBlock, outputs=3)\n",
    "model.to(device)\n",
    "\n",
    "\n",
    "if args.train:\n",
    "    print(\"Training\")\n",
    "    train(args, model, train_dataloader, val_dataloader, device=device)\n",
    "\n",
    "get_deep_features(args, model, [train_dataloader,\n",
    "                  test_dataloader, val_dataloader], device=device)\n",
    "\n",
    "plot_losses(args.save_losses)\n",
    "\n",
    "checkpoint = torch.load(args.save_model)\n",
    "model.load_state_dict(checkpoint['state_dict'])\n",
    "print(\"Best model at epoch\", checkpoint['epoch'])\n",
    "print(\"Testing\")\n",
    "test(args, model, test_dataloader, device=device)\n",
    "\n",
    "print(\"Running benchmarks on deep representation\")\n",
    "run_benchmarks(args.save_features)\n"
   ]
  },
  {
   "cell_type": "markdown",
   "metadata": {},
   "source": [
    "<a id='2.2'></a>\n",
    "2.2"
   ]
  },
  {
   "cell_type": "code",
   "execution_count": 33,
   "metadata": {},
   "outputs": [
    {
     "name": "stdout",
     "output_type": "stream",
     "text": [
      "Using global image inputs\n",
      "/data/ornet/single_cells_cnns\n",
      "using weighted sampling\n",
      "Getting deep features\n",
      "best performance at epoch 145\n",
      "/home/rachel/ornet/losses/global_ResNet_weighted_05-19.pth\n",
      "Best model at epoch 145\n",
      "Testing\n",
      "Accuracy: tensor(0.9167, device='cuda:0')\n",
      "['control', 'mdivi', 'llo']\n",
      "[[3 0 0]\n",
      " [0 4 0]\n",
      " [1 0 4]]\n",
      "Running benchmarks on deep representation\n",
      "RF accuracy: 0.9615384615384616\n",
      "[[ 8  0  1]\n",
      " [ 0  4  0]\n",
      " [ 0  0 13]]\n",
      "KNN accuracy 0.9615384615384616\n",
      "[[ 8  0  1]\n",
      " [ 0  4  0]\n",
      " [ 0  0 13]]\n",
      "Decision Tree Accuracy 1.0\n",
      "[[ 8  0  0]\n",
      " [ 0  4  0]\n",
      " [ 0  0 14]]\n"
     ]
    },
    {
     "data": {
      "image/png": "[encoded data removed]",
      "text/plain": [
       "<Figure size 432x288 with 1 Axes>"
      ]
     },
     "metadata": {
      "needs_background": "light"
     },
     "output_type": "display_data"
    }
   ],
   "source": [
    "# 2.2\n",
    "args.save_features = os.path.join(\n",
    "    root_dir, \"representations/global_ResNet_weighted_05-19.pth\")\n",
    "args.save_model = os.path.join(\n",
    "    root_dir, \"models/global_ResNet_weighted_05-19.pth\")\n",
    "args.save_losses = os.path.join(\n",
    "    root_dir, \"losses/global_ResNet_weighted_05-19.pth\")\n",
    "\n",
    "args.weighted_samples = True\n",
    "args.roi = False\n",
    "args.lr = 1e-3\n",
    "args.epochs = 400\n",
    "\n",
    "train_dataloader, test_dataloader, val_dataloader = get_dataloaders(\n",
    "    args, accept_list, resize=224)\n",
    "\n",
    "# model = BaseCNN()\n",
    "model = ResNet18(in_channels=2, resblock=ResBlock, outputs=3)\n",
    "model.to(device)\n",
    "\n",
    "\n",
    "if args.train:\n",
    "    print(\"Training\")\n",
    "    train(args, model, train_dataloader, val_dataloader, device=device)\n",
    "\n",
    "get_deep_features(args, model, [train_dataloader,\n",
    "                  test_dataloader, val_dataloader], device=device)\n",
    "\n",
    "plot_losses(args.save_losses)\n",
    "\n",
    "checkpoint = torch.load(args.save_model)\n",
    "model.load_state_dict(checkpoint['state_dict'])\n",
    "print(\"Best model at epoch\", checkpoint['epoch'])\n",
    "print(\"Testing\")\n",
    "test(args, model, test_dataloader, device=device)\n",
    "\n",
    "print(\"Running benchmarks on deep representation\")\n",
    "run_benchmarks(args.save_features)\n"
   ]
  },
  {
   "cell_type": "markdown",
   "metadata": {},
   "source": [
    "########"
   ]
  },
  {
   "cell_type": "markdown",
   "metadata": {},
   "source": [
    "### ROI Image\n",
    "<a id='3.1'></a>\n",
    "3.1"
   ]
  },
  {
   "cell_type": "code",
   "execution_count": 34,
   "metadata": {},
   "outputs": [
    {
     "name": "stdout",
     "output_type": "stream",
     "text": [
      "Using ROI inputs\n",
      "/data/ornet/single_cells_cnns\n",
      "Getting deep features\n",
      "best performance at epoch 336\n",
      "/home/rachel/ornet/losses/roi_BaseCNN_unweighted_05-19.pkl\n",
      "Best model at epoch 336\n",
      "Testing\n",
      "Accuracy: tensor(0.5000, device='cuda:0')\n",
      "['control', 'mdivi', 'llo']\n",
      "[[0 2 1]\n",
      " [1 1 2]\n",
      " [0 0 5]]\n",
      "Running benchmarks on deep representation\n",
      "RF accuracy: 0.9090909090909091\n",
      "[[11  0  0]\n",
      " [ 3  8  0]\n",
      " [ 0  0 11]]\n",
      "KNN accuracy 0.8484848484848485\n",
      "[[12  0  0]\n",
      " [ 2  6  1]\n",
      " [ 0  2 10]]\n",
      "Decision Tree Accuracy 0.9090909090909091\n",
      "[[11  0  0]\n",
      " [ 3  8  0]\n",
      " [ 0  0 11]]\n"
     ]
    },
    {
     "data": {
      "image/png": "[encoded data removed]",
      "text/plain": [
       "<Figure size 432x288 with 1 Axes>"
      ]
     },
     "metadata": {
      "needs_background": "light"
     },
     "output_type": "display_data"
    }
   ],
   "source": [
    "# 3.1\n",
    "args.save_model = os.path.join(\n",
    "    root_dir, \"models/roi_BaseCNN_unweighted_05-19.pth\")\n",
    "args.save_features = os.path.join(\n",
    "    root_dir, \"representations/roi_BaseCNN_unweighted_05-19.pkl\")\n",
    "args.save_losses = os.path.join(\n",
    "    root_dir, \"losses/roi_BaseCNN_unweighted_05-19.pkl\")\n",
    "\n",
    "args.roi = True\n",
    "args.weighted_samples = False\n",
    "args.lr = 1e-3\n",
    "args.epochs = 400\n",
    "\n",
    "train_dataloader, test_dataloader, val_dataloader = get_dataloaders(\n",
    "    args, accept_list, resize=28)\n",
    "\n",
    "model = BaseCNN()\n",
    "# model = ResNet18(in_channels=2, resblock=ResBlock, outputs=3)\n",
    "model.to(device)\n",
    "\n",
    "if args.train:\n",
    "    print(\"Training\")\n",
    "    train(args, model, train_dataloader, val_dataloader, device=device)\n",
    "\n",
    "get_deep_features(args, model, [train_dataloader,\n",
    "                  test_dataloader, val_dataloader], device=device)\n",
    "\n",
    "plot_losses(args.save_losses)\n",
    "\n",
    "checkpoint = torch.load(args.save_model)\n",
    "model.load_state_dict(checkpoint['state_dict'])\n",
    "print(\"Best model at epoch\", checkpoint['epoch'])\n",
    "print(\"Testing\")\n",
    "test(args, model, test_dataloader, device=device)\n",
    "\n",
    "print(\"Running benchmarks on deep representation\")\n",
    "run_benchmarks(args.save_features)\n"
   ]
  },
  {
   "cell_type": "markdown",
   "metadata": {},
   "source": [
    "<a id='3.2'></a>\n",
    "3.2"
   ]
  },
  {
   "cell_type": "code",
   "execution_count": 35,
   "metadata": {},
   "outputs": [
    {
     "name": "stdout",
     "output_type": "stream",
     "text": [
      "Using ROI inputs\n",
      "/data/ornet/single_cells_cnns\n",
      "Getting deep features\n",
      "best performance at epoch 24\n",
      "/home/rachel/ornet/losses/roi_ResNet_unweighted_05-19.pkl\n",
      "Best model at epoch 24\n",
      "Testing\n",
      "Accuracy: tensor(0.6667, device='cuda:0')\n",
      "['control', 'mdivi', 'llo']\n",
      "[[2 0 1]\n",
      " [1 1 2]\n",
      " [0 0 5]]\n",
      "Running benchmarks on deep representation\n",
      "RF accuracy: 0.696969696969697\n",
      "[[10  2  2]\n",
      " [ 3  5  1]\n",
      " [ 1  1  8]]\n",
      "KNN accuracy 0.8181818181818182\n",
      "[[11  2  1]\n",
      " [ 0  6  0]\n",
      " [ 3  0 10]]\n",
      "Decision Tree Accuracy 0.6060606060606061\n",
      "[[7 1 3]\n",
      " [3 5 0]\n",
      " [4 2 8]]\n"
     ]
    },
    {
     "data": {
      "image/png": "[encoded data removed]",
      "text/plain": [
       "<Figure size 432x288 with 1 Axes>"
      ]
     },
     "metadata": {
      "needs_background": "light"
     },
     "output_type": "display_data"
    }
   ],
   "source": [
    "# 3.2\n",
    "args.save_model = os.path.join(\n",
    "    root_dir, \"models/roi_ResNet_unweighted_05-19.pth\")\n",
    "args.save_features = os.path.join(\n",
    "    root_dir, \"representations/roi_ResNet_unweighted_05-19.pkl\")\n",
    "args.save_losses = os.path.join(\n",
    "    root_dir, \"losses/roi_ResNet_unweighted_05-19.pkl\")\n",
    "\n",
    "# well this is crap at higher and lower lr\n",
    "\n",
    "args.roi = True\n",
    "args.weighted_samples = False\n",
    "args.lr = 1e-3\n",
    "args.epochs = 400\n",
    "\n",
    "train_dataloader, test_dataloader, val_dataloader = get_dataloaders(\n",
    "    args, accept_list, resize=224)\n",
    "\n",
    "# model = BaseCNN()\n",
    "model = ResNet18(in_channels=2, resblock=ResBlock, outputs=3)\n",
    "model.to(device)\n",
    "\n",
    "if args.train:\n",
    "    print(\"Training\")\n",
    "    train(args, model, train_dataloader, val_dataloader, device=device)\n",
    "\n",
    "get_deep_features(args, model, [train_dataloader,\n",
    "                  test_dataloader, val_dataloader], device=device)\n",
    "\n",
    "plot_losses(args.save_losses)\n",
    "\n",
    "checkpoint = torch.load(args.save_model)\n",
    "model.load_state_dict(checkpoint['state_dict'])\n",
    "print(\"Best model at epoch\", checkpoint['epoch'])\n",
    "print(\"Testing\")\n",
    "test(args, model, test_dataloader, device=device)\n",
    "\n",
    "print(\"Running benchmarks on deep representation\")\n",
    "run_benchmarks(args.save_features)\n"
   ]
  },
  {
   "cell_type": "code",
   "execution_count": 36,
   "metadata": {},
   "outputs": [
    {
     "data": {
      "text/plain": [
       "True"
      ]
     },
     "execution_count": 36,
     "metadata": {},
     "output_type": "execute_result"
    }
   ],
   "source": [
    "torch.cuda.is_available()\n"
   ]
  },
  {
   "cell_type": "markdown",
   "metadata": {},
   "source": [
    "<a id='4.1'></a>\n",
    "4.1"
   ]
  },
  {
   "cell_type": "code",
   "execution_count": 37,
   "metadata": {},
   "outputs": [
    {
     "name": "stdout",
     "output_type": "stream",
     "text": [
      "Using ROI inputs\n",
      "/data/ornet/single_cells_cnns\n",
      "using weighted sampling\n",
      "Getting deep features\n",
      "best performance at epoch 353\n",
      "/home/rachel/ornet/losses/roi_BaseCNN_weighted_05-19.pkl\n",
      "Best model at epoch 353\n",
      "Testing\n",
      "Accuracy: tensor(0.5000, device='cuda:0')\n",
      "['control', 'mdivi', 'llo']\n",
      "[[0 1 2]\n",
      " [1 1 2]\n",
      " [0 0 5]]\n",
      "Running benchmarks on deep representation\n",
      "RF accuracy: 0.9259259259259259\n",
      "[[10  1  0]\n",
      " [ 0  9  0]\n",
      " [ 1  0  6]]\n",
      "KNN accuracy 0.8888888888888888\n",
      "[[9 1 0]\n",
      " [0 9 0]\n",
      " [2 0 6]]\n",
      "Decision Tree Accuracy 0.8888888888888888\n",
      "[[9 1 0]\n",
      " [1 9 0]\n",
      " [1 0 6]]\n"
     ]
    },
    {
     "data": {
      "image/png": "[encoded data removed]",
      "text/plain": [
       "<Figure size 432x288 with 1 Axes>"
      ]
     },
     "metadata": {
      "needs_background": "light"
     },
     "output_type": "display_data"
    }
   ],
   "source": [
    "# 4.1\n",
    "args.save_features = os.path.join(\n",
    "    root_dir, \"representations/roi_BaseCNN_weighted_05-19.pth\")\n",
    "args.save_model = os.path.join(\n",
    "    root_dir, \"models/roi_BaseCNN_weighted_05-19.pkl\")\n",
    "args.save_losses = os.path.join(\n",
    "    root_dir, \"losses/roi_BaseCNN_weighted_05-19.pkl\")\n",
    "\n",
    "args.roi = True\n",
    "args.weighted_samples = True\n",
    "args.epochs = 600\n",
    "\n",
    "\n",
    "train_dataloader, test_dataloader, val_dataloader = get_dataloaders(\n",
    "    args, accept_list, resize=28)\n",
    "\n",
    "model = BaseCNN()\n",
    "# model = ResNet18(in_channels=2, resblock=ResBlock, outputs=3)\n",
    "model.to(device)\n",
    "\n",
    "if args.train:\n",
    "    print(\"Training\")\n",
    "    train(args, model, train_dataloader, val_dataloader, device=device)\n",
    "\n",
    "get_deep_features(args, model, [train_dataloader,\n",
    "                  test_dataloader, val_dataloader], device=device)\n",
    "\n",
    "plot_losses(args.save_losses)\n",
    "\n",
    "checkpoint = torch.load(args.save_model)\n",
    "model.load_state_dict(checkpoint['state_dict'])\n",
    "print(\"Best model at epoch\", checkpoint['epoch'])\n",
    "print(\"Testing\")\n",
    "test(args, model, test_dataloader, device=device)\n",
    "\n",
    "print(\"Running benchmarks on deep representation\")\n",
    "run_benchmarks(args.save_features)\n"
   ]
  },
  {
   "cell_type": "markdown",
   "metadata": {},
   "source": [
    "<a id='4.2'></a>\n",
    "4.2"
   ]
  },
  {
   "cell_type": "code",
   "execution_count": 38,
   "metadata": {},
   "outputs": [
    {
     "name": "stdout",
     "output_type": "stream",
     "text": [
      "Using ROI inputs\n",
      "/data/ornet/single_cells_cnns\n",
      "using weighted sampling\n",
      "Getting deep features\n",
      "best performance at epoch 33\n",
      "/home/rachel/ornet/losses/roi_ResNet_weighted_05-19.pth\n",
      "Best model at epoch 33\n",
      "Testing\n",
      "Accuracy: tensor(0.5833, device='cuda:0')\n",
      "['control', 'mdivi', 'llo']\n",
      "[[2 0 1]\n",
      " [0 1 3]\n",
      " [1 0 4]]\n",
      "Running benchmarks on deep representation\n",
      "RF accuracy: 0.8148148148148148\n",
      "[[ 6  0  0]\n",
      " [ 0 12  2]\n",
      " [ 3  0  4]]\n",
      "KNN accuracy 0.7407407407407407\n",
      "[[ 7  1  2]\n",
      " [ 0 11  2]\n",
      " [ 2  0  2]]\n",
      "Decision Tree Accuracy 0.8148148148148148\n",
      "[[ 7  1  0]\n",
      " [ 0 11  2]\n",
      " [ 2  0  4]]\n"
     ]
    },
    {
     "data": {
      "image/png": "[encoded data removed]",
      "text/plain": [
       "<Figure size 432x288 with 1 Axes>"
      ]
     },
     "metadata": {
      "needs_background": "light"
     },
     "output_type": "display_data"
    }
   ],
   "source": [
    "# 4.2\n",
    "args.save_features = os.path.join(\n",
    "    root_dir, \"representations/roi_ResNet_weighted_05-19.pth\")\n",
    "args.save_model = os.path.join(\n",
    "    root_dir, \"models/roi_ResNet_weighted_05-19.pth\")\n",
    "args.save_losses = os.path.join(\n",
    "    root_dir, \"losses/roi_ResNet_weighted_05-19.pth\")\n",
    "\n",
    "args.roi = True\n",
    "args.weighted_samples = True\n",
    "args.epochs = 200\n",
    "args.train = False\n",
    "\n",
    "train_dataloader, test_dataloader, val_dataloader = get_dataloaders(\n",
    "    args, accept_list, resize=224)\n",
    "\n",
    "# model = BaseCNN()\n",
    "model = ResNet18(in_channels=2, resblock=ResBlock, outputs=3)\n",
    "model.to(device)\n",
    "\n",
    "\n",
    "if args.train:\n",
    "    print(\"Training\")\n",
    "    train(args, model, train_dataloader, val_dataloader, device=device)\n",
    "\n",
    "get_deep_features(args, model, [train_dataloader,\n",
    "                  test_dataloader, val_dataloader], device=device)\n",
    "\n",
    "plot_losses(args.save_losses)\n",
    "\n",
    "checkpoint = torch.load(args.save_model)\n",
    "model.load_state_dict(checkpoint['state_dict'])\n",
    "print(\"Best model at epoch\", checkpoint['epoch'])\n",
    "print(\"Testing\")\n",
    "test(args, model, test_dataloader, device=device)\n",
    "\n",
    "print(\"Running benchmarks on deep representation\")\n",
    "run_benchmarks(args.save_features)\n"
   ]
  },
  {
   "cell_type": "code",
   "execution_count": null,
   "metadata": {},
   "outputs": [],
   "source": []
  }
 ],
 "metadata": {
  "interpreter": {
   "hash": "a690693c1fdd9d71c81918a527effb7319205501255b3eea75f291099e2d6564"
  },
  "kernelspec": {
   "display_name": "Python (ornet)",
   "language": "python",
   "name": "ornet"
  },
  "language_info": {
   "codemirror_mode": {
    "name": "ipython",
    "version": 3
   },
   "file_extension": ".py",
   "mimetype": "text/x-python",
   "name": "python",
   "nbconvert_exporter": "python",
   "pygments_lexer": "ipython3",
   "version": "3.9.7"
  },
  "orig_nbformat": 4
 },
 "nbformat": 4,
 "nbformat_minor": 2
}
