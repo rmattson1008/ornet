{
 "cells": [
  {
   "cell_type": "code",
   "execution_count": 1,
   "metadata": {},
   "outputs": [
    {
     "name": "stderr",
     "output_type": "stream",
     "text": [
      "/home/rachel/anaconda3/envs/ornet/lib/python3.9/site-packages/tqdm/auto.py:22: TqdmWarning: IProgress not found. Please update jupyter and ipywidgets. See https://ipywidgets.readthedocs.io/en/stable/user_install.html\n",
      "  from .autonotebook import tqdm as notebook_tqdm\n"
     ]
    }
   ],
   "source": [
    "import pickle\n",
    "import numpy as np\n",
    "import matplotlib.pyplot as plt\n",
    "import matplotlib\n",
    "import torch\n",
    "from data_utils import get_accept_list\n",
    "# from torchvisions\n",
    "import argparse"
   ]
  },
  {
   "cell_type": "code",
   "execution_count": 2,
   "metadata": {},
   "outputs": [],
   "source": [
    "import os\n",
    "from platform import node\n",
    "import torch\n",
    "from torch import nn\n",
    "import torch.nn.functional as F\n",
    "from torchvision import transforms\n",
    "from torchvision.datasets import MNIST\n",
    "from torch.utils.data import DataLoader, random_split\n",
    "import pytorch_lightning as pl\n",
    "from pytorch_lightning.strategies.ddp import DDPStrategy # set ddps flag\n",
    "from pytorch_lightning.loggers import TensorBoardLogger\n",
    "from pytorch_lightning.callbacks.early_stopping import EarlyStopping\n",
    "\n",
    "\n",
    "import os\n",
    "import math\n",
    "import torch\n",
    "import torch.nn as nn\n",
    "from torch.utils.data import Dataset, DataLoader\n",
    "from torch.utils.data.sampler import WeightedRandomSampler\n",
    "from torchvision import transforms\n",
    "import torchvision\n",
    "from torch.optim import Adam, SGD, AdamW\n",
    "from torch.nn import CrossEntropyLoss\n",
    "import pickle\n",
    "\n",
    "from data_utils import FramePairDataset, RoiTransform, get_accept_list, TimeChunks\n",
    "from models import BaseCNN, ResNet18, ResBlock, CNN_Encoder\n",
    "from lightning_modules import CNN_Module\n",
    "from sklearn.metrics import confusion_matrix\n",
    "import numpy as np\n",
    "from parsing_utils import make_parser\n",
    "\n",
    "from matplotlib import pyplot as plt\n",
    "import pickle\n",
    "from tqdm import tqdm\n",
    "from time import sleep\n",
    "\n",
    "import albumentations as A\n",
    "from albumentations.pytorch import ToTensorV2\n",
    "import copy\n",
    "import pandas as pd\n",
    "import random\n",
    "from torch.utils.tensorboard import SummaryWriter\n",
    "from itertools import product\n",
    "\n",
    "from sklearn.model_selection import train_test_split"
   ]
  },
  {
   "cell_type": "code",
   "execution_count": 3,
   "metadata": {},
   "outputs": [
    {
     "name": "stdout",
     "output_type": "stream",
     "text": [
      "/data/ornet/rachel_baselines\n",
      "/data/ornet/rachel_baselines\n",
      "/data/ornet/rachel_baselines\n"
     ]
    }
   ],
   "source": [
    "X, y = get_accept_list(\"/data/ornet/gmm_intermediates\", ['control', 'mdivi', 'llo'])\n",
    "# print(\"X, Y\", X, y)\n",
    "\n",
    "# why would there be a y? \n",
    "frames_per_chunk = 5\n",
    "resize=224\n",
    "\n",
    "# args.epochs=10\n",
    "\n",
    "step = 1\n",
    "\n",
    "X_train, X_test, y_train, y_test = train_test_split(X, y, test_size=0.20, random_state=42)\n",
    "\n",
    "X_test, X_val, y_test, y_val = train_test_split(X_test, y_test, test_size=0.5, random_state=39)\n",
    "# transforms.Normalize(mean=[0.485, 0.456, 0.406], std=[0.229, 0.224, 0.225])\n",
    "transform = transforms.Compose([transforms.ToTensor(),transforms.Resize(size=resize)])\n",
    "# transform = transforms.Compose([transforms.ToTensor(),transforms.Resize(size=resize), transforms.Normalize()])\n",
    "# TODO - some sort of normalizing step?\n",
    "# transform = transforms.Compose([ transforms.ToTensor(), transforms.Resize(size=224), transforms.Normalize(mean=[0.485, 0.456, 0.406], std=[0.229, 0.224, 0.225])])\n",
    "train_dataset = TimeChunks('/data/ornet/rachel_baselines', accept_list=X_train, frames_per_chunk=frames_per_chunk, step=step, transform=transform)  \n",
    "test_dataset = TimeChunks('/data/ornet/rachel_baselines', accept_list=X_test, frames_per_chunk=frames_per_chunk, step=step,  transform=transform)  \n",
    "val_dataset = TimeChunks('/data/ornet/rachel_baselines', accept_list=X_val, frames_per_chunk=frames_per_chunk,step=step,   transform=transform)  \n",
    "\n",
    "train_loader = DataLoader(train_dataset,sampler=None, batch_size=1)\n",
    "test_loader = DataLoader(test_dataset,sampler=None, batch_size=1)\n",
    "val_loader = DataLoader(val_dataset,sampler=None, batch_size=1)\n",
    "# test_dataloader = val_dataloader\n"
   ]
  },
  {
   "cell_type": "code",
   "execution_count": 27,
   "metadata": {},
   "outputs": [
    {
     "data": {
      "text/plain": [
       "['mdivi', 'llo', 'llo', 'llo', 'mdivi', 'llo', 'mdivi', 'llo', 'llo']"
      ]
     },
     "execution_count": 27,
     "metadata": {},
     "output_type": "execute_result"
    }
   ],
   "source": [
    "y_val"
   ]
  },
  {
   "cell_type": "code",
   "execution_count": null,
   "metadata": {},
   "outputs": [],
   "source": []
  },
  {
   "cell_type": "code",
   "execution_count": null,
   "metadata": {},
   "outputs": [],
   "source": [
    "model = CnnLSTM_Module(number_of_frames=time_steps, num_classes =2, learning_rate= args.lr, weight_decay=args.weight_decay, label='best-oct27')\n",
    "        # model = CNN_Module(number_of_frames=time_steps, num_classes =2, learning_rate= args.lr, weight_decay=args.weight_decay, label= \"e-5\")\n",
    "trainer = pl.Trainer(accelerator=\"gpu\", devices=1, num_nodes=1)\n",
    "\n",
    "        # trainer.test(model=model, dataloaders=test_dataloader)\n"
   ]
  },
  {
   "cell_type": "code",
   "execution_count": 4,
   "metadata": {},
   "outputs": [
    {
     "name": "stdout",
     "output_type": "stream",
     "text": [
      "141\n",
      "117\n"
     ]
    }
   ],
   "source": [
    "m = [1 for m in val_dataset if m[1] == 0]\n",
    "print(sum(m))\n",
    "\n",
    "l = [1 for m in val_dataset if m[1] == 1]\n",
    "print(sum(l))\n",
    "# co = [1 for m in y_test if m == 'control']\n",
    "# print(sum(co))"
   ]
  },
  {
   "cell_type": "code",
   "execution_count": 5,
   "metadata": {},
   "outputs": [
    {
     "name": "stdout",
     "output_type": "stream",
     "text": [
      "861\n",
      "975\n"
     ]
    }
   ],
   "source": [
    "m = [1 for m in train_dataset if m[1] == 0]\n",
    "print(sum(m))\n",
    "\n",
    "l = [1 for m in train_dataset if m[1] == 1]\n",
    "print(sum(l))"
   ]
  },
  {
   "cell_type": "code",
   "execution_count": 6,
   "metadata": {},
   "outputs": [
    {
     "name": "stdout",
     "output_type": "stream",
     "text": [
      "127\n",
      "117\n"
     ]
    }
   ],
   "source": [
    "m = [1 for m in test_dataset if m[1] == 0]\n",
    "print(sum(m))\n",
    "\n",
    "l = [1 for m in test_dataset if m[1] == 1]\n",
    "print(sum(l))\n",
    "# co = [1 for m in y_test if m == 'control']\n",
    "# print(sum(co))"
   ]
  },
  {
   "cell_type": "code",
   "execution_count": 7,
   "metadata": {},
   "outputs": [],
   "source": [
    "path =  'best-oct21_'\n",
    "with open(\"../embeddings/\" + path+ \"embeddings.pkl\", \"rb\") as fp:   # Unpickling\n",
    "    embeddings = pickle.load(fp)\n",
    "\n",
    "with open(\"../embeddings/\"+ path +\"targets.pkl\", \"rb\") as fp:   # Unpickling\n",
    "    targets = pickle.load(fp)\n",
    "\n",
    "\n",
    "with open(\"../embeddings/\"+ path +\"preds.pkl\", \"rb\") as fp:   # Unpickling\n",
    "    preds = pickle.load(fp)\n",
    "\n",
    "\n"
   ]
  },
  {
   "cell_type": "code",
   "execution_count": 8,
   "metadata": {},
   "outputs": [
    {
     "ename": "NameError",
     "evalue": "name 'c' is not defined",
     "output_type": "error",
     "traceback": [
      "\u001b[0;31m---------------------------------------------------------------------------\u001b[0m",
      "\u001b[0;31mNameError\u001b[0m                                 Traceback (most recent call last)",
      "\u001b[1;32m/home/rachel/ornet/benchmarks/DELETE.ipynb Cell 8'\u001b[0m in \u001b[0;36m<cell line: 1>\u001b[0;34m()\u001b[0m\n\u001b[0;32m----> <a href='vscode-notebook-cell://ssh-remote%2Blogan.cs.uga.edu/home/rachel/ornet/benchmarks/DELETE.ipynb#ch0000007vscode-remote?line=0'>1</a>\u001b[0m \u001b[39mlen\u001b[39m(c)\n",
      "\u001b[0;31mNameError\u001b[0m: name 'c' is not defined"
     ]
    }
   ],
   "source": [
    "len(c)"
   ]
  },
  {
   "cell_type": "code",
   "execution_count": null,
   "metadata": {},
   "outputs": [
    {
     "data": {
      "text/plain": [
       "[tensor([[0.6096, 0.3904],\n",
       "         [0.4601, 0.5399],\n",
       "         [0.6467, 0.3533],\n",
       "         [0.5658, 0.4342],\n",
       "         [0.4652, 0.5348],\n",
       "         [0.5448, 0.4552],\n",
       "         [0.5276, 0.4724],\n",
       "         [0.3783, 0.6217],\n",
       "         [0.5228, 0.4772],\n",
       "         [0.5413, 0.4587],\n",
       "         [0.3834, 0.6166],\n",
       "         [0.5892, 0.4108],\n",
       "         [0.6107, 0.3893],\n",
       "         [0.6167, 0.3833],\n",
       "         [0.5375, 0.4625],\n",
       "         [0.5792, 0.4208]]),\n",
       " tensor([[0.5351, 0.4649],\n",
       "         [0.4722, 0.5278],\n",
       "         [0.6039, 0.3961],\n",
       "         [0.3862, 0.6138],\n",
       "         [0.3640, 0.6360],\n",
       "         [0.4737, 0.5263],\n",
       "         [0.4276, 0.5724],\n",
       "         [0.6500, 0.3500],\n",
       "         [0.5114, 0.4886],\n",
       "         [0.6609, 0.3391],\n",
       "         [0.4110, 0.5890],\n",
       "         [0.4888, 0.5112],\n",
       "         [0.5839, 0.4161],\n",
       "         [0.5206, 0.4794],\n",
       "         [0.5161, 0.4839],\n",
       "         [0.4255, 0.5745]]),\n",
       " tensor([[0.6345, 0.3655],\n",
       "         [0.3994, 0.6006],\n",
       "         [0.5124, 0.4876],\n",
       "         [0.4295, 0.5705],\n",
       "         [0.4630, 0.5370],\n",
       "         [0.6246, 0.3754],\n",
       "         [0.3873, 0.6127],\n",
       "         [0.5486, 0.4514],\n",
       "         [0.5217, 0.4783],\n",
       "         [0.6719, 0.3281],\n",
       "         [0.4934, 0.5066],\n",
       "         [0.6404, 0.3596],\n",
       "         [0.5165, 0.4835],\n",
       "         [0.5772, 0.4228],\n",
       "         [0.6344, 0.3656],\n",
       "         [0.7060, 0.2940]]),\n",
       " tensor([[0.5160, 0.4840],\n",
       "         [0.5399, 0.4601],\n",
       "         [0.6073, 0.3927],\n",
       "         [0.3515, 0.6485],\n",
       "         [0.3283, 0.6717],\n",
       "         [0.4228, 0.5772],\n",
       "         [0.5985, 0.4015],\n",
       "         [0.6338, 0.3662],\n",
       "         [0.6485, 0.3515],\n",
       "         [0.6532, 0.3468],\n",
       "         [0.6166, 0.3834],\n",
       "         [0.6243, 0.3757],\n",
       "         [0.3951, 0.6049],\n",
       "         [0.5623, 0.4377],\n",
       "         [0.4467, 0.5533],\n",
       "         [0.3772, 0.6228]]),\n",
       " tensor([[0.6292, 0.3708],\n",
       "         [0.6735, 0.3265],\n",
       "         [0.4041, 0.5959],\n",
       "         [0.5789, 0.4211],\n",
       "         [0.6924, 0.3076],\n",
       "         [0.4159, 0.5841],\n",
       "         [0.3055, 0.6945],\n",
       "         [0.5813, 0.4187],\n",
       "         [0.4178, 0.5822],\n",
       "         [0.4938, 0.5062],\n",
       "         [0.5322, 0.4678],\n",
       "         [0.4967, 0.5033],\n",
       "         [0.5392, 0.4608],\n",
       "         [0.6209, 0.3791],\n",
       "         [0.5848, 0.4152],\n",
       "         [0.4217, 0.5783]]),\n",
       " tensor([[0.3739, 0.6261],\n",
       "         [0.5330, 0.4670],\n",
       "         [0.5237, 0.4763],\n",
       "         [0.3696, 0.6304],\n",
       "         [0.6871, 0.3129],\n",
       "         [0.5008, 0.4992],\n",
       "         [0.3907, 0.6093],\n",
       "         [0.5215, 0.4785],\n",
       "         [0.5671, 0.4329],\n",
       "         [0.5984, 0.4016],\n",
       "         [0.5085, 0.4915],\n",
       "         [0.5035, 0.4965],\n",
       "         [0.3484, 0.6516],\n",
       "         [0.5113, 0.4887],\n",
       "         [0.5144, 0.4856],\n",
       "         [0.5666, 0.4334]]),\n",
       " tensor([[0.6074, 0.3926],\n",
       "         [0.5404, 0.4596],\n",
       "         [0.5346, 0.4654],\n",
       "         [0.3409, 0.6591],\n",
       "         [0.6677, 0.3323],\n",
       "         [0.4338, 0.5662],\n",
       "         [0.5474, 0.4526],\n",
       "         [0.6987, 0.3013],\n",
       "         [0.4891, 0.5109],\n",
       "         [0.5188, 0.4812],\n",
       "         [0.4186, 0.5814],\n",
       "         [0.4822, 0.5178],\n",
       "         [0.5999, 0.4001],\n",
       "         [0.4656, 0.5344],\n",
       "         [0.6845, 0.3155],\n",
       "         [0.4093, 0.5907]]),\n",
       " tensor([[0.6765, 0.3235],\n",
       "         [0.4428, 0.5572],\n",
       "         [0.6205, 0.3795],\n",
       "         [0.5214, 0.4786],\n",
       "         [0.4614, 0.5386],\n",
       "         [0.5618, 0.4382],\n",
       "         [0.3905, 0.6095],\n",
       "         [0.4705, 0.5295],\n",
       "         [0.5643, 0.4357],\n",
       "         [0.4032, 0.5968],\n",
       "         [0.3602, 0.6398],\n",
       "         [0.4614, 0.5386],\n",
       "         [0.6411, 0.3589],\n",
       "         [0.4900, 0.5100],\n",
       "         [0.5223, 0.4777],\n",
       "         [0.4058, 0.5942]]),\n",
       " tensor([[0.6334, 0.3666],\n",
       "         [0.4365, 0.5635],\n",
       "         [0.3731, 0.6269],\n",
       "         [0.5947, 0.4053],\n",
       "         [0.5131, 0.4869],\n",
       "         [0.5311, 0.4689],\n",
       "         [0.4409, 0.5591],\n",
       "         [0.4341, 0.5659],\n",
       "         [0.4339, 0.5661],\n",
       "         [0.6731, 0.3269],\n",
       "         [0.3676, 0.6324],\n",
       "         [0.5373, 0.4627],\n",
       "         [0.6217, 0.3783],\n",
       "         [0.6207, 0.3793],\n",
       "         [0.6168, 0.3832],\n",
       "         [0.5693, 0.4307]]),\n",
       " tensor([[0.4667, 0.5333],\n",
       "         [0.5478, 0.4522],\n",
       "         [0.5665, 0.4335],\n",
       "         [0.4289, 0.5711]])]"
      ]
     },
     "execution_count": 69,
     "metadata": {},
     "output_type": "execute_result"
    }
   ],
   "source": [
    "preds"
   ]
  },
  {
   "cell_type": "code",
   "execution_count": null,
   "metadata": {},
   "outputs": [
    {
     "name": "stdout",
     "output_type": "stream",
     "text": [
      "<class 'list'>\n"
     ]
    }
   ],
   "source": [
    "print(type(b))\n"
   ]
  },
  {
   "cell_type": "code",
   "execution_count": 9,
   "metadata": {},
   "outputs": [
    {
     "ename": "NameError",
     "evalue": "name 'b' is not defined",
     "output_type": "error",
     "traceback": [
      "\u001b[0;31m---------------------------------------------------------------------------\u001b[0m",
      "\u001b[0;31mNameError\u001b[0m                                 Traceback (most recent call last)",
      "\u001b[1;32m/home/rachel/ornet/benchmarks/DELETE.ipynb Cell 11'\u001b[0m in \u001b[0;36m<cell line: 1>\u001b[0;34m()\u001b[0m\n\u001b[0;32m----> <a href='vscode-notebook-cell://ssh-remote%2Blogan.cs.uga.edu/home/rachel/ornet/benchmarks/DELETE.ipynb#ch0000010vscode-remote?line=0'>1</a>\u001b[0m \u001b[39mprint\u001b[39m(\u001b[39mtype\u001b[39m(b[\u001b[39m0\u001b[39m]))\n",
      "\u001b[0;31mNameError\u001b[0m: name 'b' is not defined"
     ]
    }
   ],
   "source": [
    "print(type(b[0]))"
   ]
  },
  {
   "cell_type": "code",
   "execution_count": 10,
   "metadata": {},
   "outputs": [
    {
     "data": {
      "text/plain": [
       "tensor([[0.5618, 0.4382],\n",
       "        [0.5789, 0.4211],\n",
       "        [0.5666, 0.4334],\n",
       "        [0.5114, 0.4886],\n",
       "        [0.5861, 0.4139],\n",
       "        [0.4833, 0.5167],\n",
       "        [0.6736, 0.3264],\n",
       "        [0.2234, 0.7766],\n",
       "        [0.6704, 0.3296],\n",
       "        [0.5947, 0.4053],\n",
       "        [0.6171, 0.3829],\n",
       "        [0.5151, 0.4849],\n",
       "        [0.6394, 0.3606],\n",
       "        [0.3230, 0.6770],\n",
       "        [0.6084, 0.3916],\n",
       "        [0.5014, 0.4986]])"
      ]
     },
     "execution_count": 10,
     "metadata": {},
     "output_type": "execute_result"
    }
   ],
   "source": [
    "preds[0]"
   ]
  },
  {
   "cell_type": "code",
   "execution_count": 11,
   "metadata": {},
   "outputs": [],
   "source": [
    "xs = []\n",
    "ys = []\n",
    "zs = []\n",
    "labels = []\n",
    "m = ['^', 'o', 'x']\n",
    "p = []\n",
    "\n",
    "for batch in embeddings:\n",
    "    batch = batch.permute(1,0)\n",
    "    # print(batch.shape)\n",
    "    xs.extend(batch[0].numpy())\n",
    "    ys.extend(batch[1].numpy())\n",
    "    # zs.extend(batch[2].numpy())\n",
    "\n",
    "for batch in targets:\n",
    "    # batch = batch.permute(1,0)\n",
    "    # print(batch.shape)\n",
    "    labels.extend(batch.numpy())\n",
    "\n",
    "for batch in preds:\n",
    "    # print(batch.shape)\n",
    "    # batch = batch.permute(1,0)\n",
    "    for fuc in batch: \n",
    "        fuc = fuc.argmax(axis=0)\n",
    "     \n",
    "        p.append(fuc.item())\n",
    "   \n",
    "\n",
    "# colors = ['red','blue','purple']\n",
    "colors = ['red','blue']\n",
    "\n",
    "# ?\n",
    "\n",
    "# print(p)\n"
   ]
  },
  {
   "cell_type": "code",
   "execution_count": 12,
   "metadata": {},
   "outputs": [
    {
     "data": {
      "text/plain": [
       "0.86875"
      ]
     },
     "execution_count": 12,
     "metadata": {},
     "output_type": "execute_result"
    }
   ],
   "source": [
    "L = np.array(labels)\n",
    "P = np.array(p)\n",
    "acc = np.sum(L == P) / len(p)\n",
    "acc\n",
    "\n",
    "\n",
    "# ???? no way\n",
    "# is 0 a good guess... "
   ]
  },
  {
   "cell_type": "code",
   "execution_count": 13,
   "metadata": {},
   "outputs": [
    {
     "data": {
      "text/plain": [
       "61"
      ]
     },
     "execution_count": 13,
     "metadata": {},
     "output_type": "execute_result"
    }
   ],
   "source": [
    "len([a for a in P if  a == 1])"
   ]
  },
  {
   "cell_type": "code",
   "execution_count": 14,
   "metadata": {},
   "outputs": [
    {
     "data": {
      "text/plain": [
       "160"
      ]
     },
     "execution_count": 14,
     "metadata": {},
     "output_type": "execute_result"
    }
   ],
   "source": [
    "len(P)"
   ]
  },
  {
   "cell_type": "code",
   "execution_count": 15,
   "metadata": {},
   "outputs": [
    {
     "data": {
      "text/plain": [
       "160"
      ]
     },
     "execution_count": 15,
     "metadata": {},
     "output_type": "execute_result"
    }
   ],
   "source": [
    "len(L)"
   ]
  },
  {
   "cell_type": "code",
   "execution_count": 16,
   "metadata": {},
   "outputs": [
    {
     "data": {
      "text/plain": [
       "True"
      ]
     },
     "execution_count": 16,
     "metadata": {},
     "output_type": "execute_result"
    }
   ],
   "source": [
    "p[-1] == labels[-1]\n",
    "# p[-1]\n",
    "# labels[-1]"
   ]
  },
  {
   "cell_type": "code",
   "execution_count": 17,
   "metadata": {},
   "outputs": [
    {
     "name": "stdout",
     "output_type": "stream",
     "text": [
      "[[0 1 2]\n",
      " [3 4 5]\n",
      " [6 7 8]]\n"
     ]
    },
    {
     "data": {
      "text/plain": [
       "array([[6, 7, 8],\n",
       "       [0, 1, 2],\n",
       "       [3, 4, 5]])"
      ]
     },
     "execution_count": 17,
     "metadata": {},
     "output_type": "execute_result"
    }
   ],
   "source": [
    "# I dont think the weights are mixed right...\n",
    "arr = np.arange(9).reshape((3, 3))\n",
    "print(arr)\n",
    "np.random.permutation(arr)"
   ]
  },
  {
   "cell_type": "code",
   "execution_count": 18,
   "metadata": {},
   "outputs": [
    {
     "data": {
      "text/plain": [
       "[0,\n",
       " 0,\n",
       " 0,\n",
       " 0,\n",
       " 0,\n",
       " 1,\n",
       " 0,\n",
       " 1,\n",
       " 0,\n",
       " 0,\n",
       " 0,\n",
       " 0,\n",
       " 0,\n",
       " 1,\n",
       " 0,\n",
       " 0,\n",
       " 0,\n",
       " 0,\n",
       " 0,\n",
       " 0,\n",
       " 1,\n",
       " 0,\n",
       " 1,\n",
       " 1,\n",
       " 1,\n",
       " 0,\n",
       " 0,\n",
       " 0,\n",
       " 0,\n",
       " 0,\n",
       " 0,\n",
       " 0,\n",
       " 1,\n",
       " 0,\n",
       " 1,\n",
       " 0,\n",
       " 1,\n",
       " 1,\n",
       " 1,\n",
       " 0,\n",
       " 0,\n",
       " 0,\n",
       " 1,\n",
       " 0,\n",
       " 0,\n",
       " 1,\n",
       " 0,\n",
       " 0,\n",
       " 0,\n",
       " 1,\n",
       " 0,\n",
       " 1,\n",
       " 1,\n",
       " 0,\n",
       " 1,\n",
       " 1,\n",
       " 1,\n",
       " 0,\n",
       " 0,\n",
       " 1,\n",
       " 1,\n",
       " 0,\n",
       " 1,\n",
       " 0,\n",
       " 0,\n",
       " 1,\n",
       " 1,\n",
       " 0,\n",
       " 0,\n",
       " 0,\n",
       " 0,\n",
       " 0,\n",
       " 1,\n",
       " 1,\n",
       " 0,\n",
       " 1,\n",
       " 1,\n",
       " 0,\n",
       " 0,\n",
       " 0,\n",
       " 0,\n",
       " 0,\n",
       " 1,\n",
       " 0,\n",
       " 0,\n",
       " 0,\n",
       " 0,\n",
       " 1,\n",
       " 0,\n",
       " 1,\n",
       " 1,\n",
       " 1,\n",
       " 0,\n",
       " 0,\n",
       " 0,\n",
       " 1,\n",
       " 0,\n",
       " 0,\n",
       " 0,\n",
       " 1,\n",
       " 1,\n",
       " 0,\n",
       " 0,\n",
       " 1,\n",
       " 1,\n",
       " 0,\n",
       " 1,\n",
       " 1,\n",
       " 1,\n",
       " 1,\n",
       " 1,\n",
       " 1,\n",
       " 0,\n",
       " 0,\n",
       " 0,\n",
       " 1,\n",
       " 0,\n",
       " 0,\n",
       " 0,\n",
       " 1,\n",
       " 0,\n",
       " 0,\n",
       " 1,\n",
       " 0,\n",
       " 1,\n",
       " 0,\n",
       " 1,\n",
       " 1,\n",
       " 0,\n",
       " 0,\n",
       " 1,\n",
       " 1,\n",
       " 0,\n",
       " 1,\n",
       " 0,\n",
       " 1,\n",
       " 1,\n",
       " 0,\n",
       " 0,\n",
       " 1,\n",
       " 0,\n",
       " 0,\n",
       " 1,\n",
       " 0,\n",
       " 1,\n",
       " 0,\n",
       " 0,\n",
       " 0,\n",
       " 0,\n",
       " 0,\n",
       " 0,\n",
       " 1,\n",
       " 0,\n",
       " 0,\n",
       " 0,\n",
       " 1,\n",
       " 0,\n",
       " 0,\n",
       " 0,\n",
       " 0]"
      ]
     },
     "execution_count": 18,
     "metadata": {},
     "output_type": "execute_result"
    }
   ],
   "source": [
    "p"
   ]
  },
  {
   "cell_type": "code",
   "execution_count": 19,
   "metadata": {},
   "outputs": [
    {
     "data": {
      "text/plain": [
       "160"
      ]
     },
     "execution_count": 19,
     "metadata": {},
     "output_type": "execute_result"
    }
   ],
   "source": [
    "len(xs)"
   ]
  },
  {
   "cell_type": "code",
   "execution_count": 20,
   "metadata": {},
   "outputs": [
    {
     "data": {
      "text/plain": [
       "160"
      ]
     },
     "execution_count": 20,
     "metadata": {},
     "output_type": "execute_result"
    }
   ],
   "source": [
    "len(ys)\n"
   ]
  },
  {
   "cell_type": "code",
   "execution_count": 21,
   "metadata": {},
   "outputs": [
    {
     "data": {
      "text/plain": [
       "[tensor([[0.5618, 0.4382],\n",
       "         [0.5789, 0.4211],\n",
       "         [0.5666, 0.4334],\n",
       "         [0.5114, 0.4886],\n",
       "         [0.5861, 0.4139],\n",
       "         [0.4833, 0.5167],\n",
       "         [0.6736, 0.3264],\n",
       "         [0.2234, 0.7766],\n",
       "         [0.6704, 0.3296],\n",
       "         [0.5947, 0.4053],\n",
       "         [0.6171, 0.3829],\n",
       "         [0.5151, 0.4849],\n",
       "         [0.6394, 0.3606],\n",
       "         [0.3230, 0.6770],\n",
       "         [0.6084, 0.3916],\n",
       "         [0.5014, 0.4986]]),\n",
       " tensor([[0.6962, 0.3038],\n",
       "         [0.5623, 0.4377],\n",
       "         [0.6754, 0.3246],\n",
       "         [0.6317, 0.3683],\n",
       "         [0.3413, 0.6587],\n",
       "         [0.6124, 0.3876],\n",
       "         [0.4018, 0.5982],\n",
       "         [0.4375, 0.5625],\n",
       "         [0.4580, 0.5420],\n",
       "         [0.5987, 0.4013],\n",
       "         [0.6811, 0.3189],\n",
       "         [0.5165, 0.4835],\n",
       "         [0.5439, 0.4561],\n",
       "         [0.5643, 0.4357],\n",
       "         [0.6115, 0.3885],\n",
       "         [0.5969, 0.4031]]),\n",
       " tensor([[0.4228, 0.5772],\n",
       "         [0.6019, 0.3981],\n",
       "         [0.4640, 0.5360],\n",
       "         [0.6938, 0.3062],\n",
       "         [0.2437, 0.7563],\n",
       "         [0.3788, 0.6212],\n",
       "         [0.3441, 0.6559],\n",
       "         [0.5357, 0.4643],\n",
       "         [0.5496, 0.4504],\n",
       "         [0.6294, 0.3706],\n",
       "         [0.4910, 0.5090],\n",
       "         [0.6796, 0.3204],\n",
       "         [0.6181, 0.3819],\n",
       "         [0.3516, 0.6484],\n",
       "         [0.5585, 0.4415],\n",
       "         [0.6294, 0.3706]]),\n",
       " tensor([[0.6550, 0.3450],\n",
       "         [0.3306, 0.6694],\n",
       "         [0.5900, 0.4100],\n",
       "         [0.4250, 0.5750],\n",
       "         [0.4085, 0.5915],\n",
       "         [0.5342, 0.4658],\n",
       "         [0.4341, 0.5659],\n",
       "         [0.4956, 0.5044],\n",
       "         [0.3322, 0.6678],\n",
       "         [0.5375, 0.4625],\n",
       "         [0.6993, 0.3007],\n",
       "         [0.3824, 0.6176],\n",
       "         [0.4898, 0.5102],\n",
       "         [0.6147, 0.3853],\n",
       "         [0.4337, 0.5663],\n",
       "         [0.7012, 0.2988]]),\n",
       " tensor([[0.5782, 0.4218],\n",
       "         [0.3297, 0.6703],\n",
       "         [0.4396, 0.5604],\n",
       "         [0.6847, 0.3153],\n",
       "         [0.5671, 0.4329],\n",
       "         [0.5273, 0.4727],\n",
       "         [0.6258, 0.3742],\n",
       "         [0.5848, 0.4152],\n",
       "         [0.4110, 0.5890],\n",
       "         [0.3069, 0.6931],\n",
       "         [0.5588, 0.4412],\n",
       "         [0.4738, 0.5262],\n",
       "         [0.3937, 0.6063],\n",
       "         [0.5813, 0.4187],\n",
       "         [0.6126, 0.3874],\n",
       "         [0.6243, 0.3757]]),\n",
       " tensor([[0.6000, 0.4000],\n",
       "         [0.5925, 0.4075],\n",
       "         [0.4625, 0.5375],\n",
       "         [0.5607, 0.4393],\n",
       "         [0.7506, 0.2494],\n",
       "         [0.7166, 0.2834],\n",
       "         [0.6195, 0.3805],\n",
       "         [0.3150, 0.6850],\n",
       "         [0.6183, 0.3817],\n",
       "         [0.4428, 0.5572],\n",
       "         [0.2663, 0.7337],\n",
       "         [0.4185, 0.5815],\n",
       "         [0.6316, 0.3684],\n",
       "         [0.6018, 0.3982],\n",
       "         [0.6970, 0.3030],\n",
       "         [0.4178, 0.5822]]),\n",
       " tensor([[0.7196, 0.2804],\n",
       "         [0.5999, 0.4001],\n",
       "         [0.6594, 0.3406],\n",
       "         [0.4967, 0.5033],\n",
       "         [0.4749, 0.5251],\n",
       "         [0.6395, 0.3605],\n",
       "         [0.6928, 0.3072],\n",
       "         [0.2281, 0.7719],\n",
       "         [0.3593, 0.6407],\n",
       "         [0.5677, 0.4323],\n",
       "         [0.3350, 0.6650],\n",
       "         [0.3727, 0.6273],\n",
       "         [0.2662, 0.7338],\n",
       "         [0.4222, 0.5778],\n",
       "         [0.3478, 0.6522],\n",
       "         [0.3443, 0.6557]]),\n",
       " tensor([[0.7033, 0.2967],\n",
       "         [0.5892, 0.4108],\n",
       "         [0.5492, 0.4508],\n",
       "         [0.4935, 0.5065],\n",
       "         [0.6902, 0.3098],\n",
       "         [0.6678, 0.3322],\n",
       "         [0.5153, 0.4847],\n",
       "         [0.4241, 0.5759],\n",
       "         [0.5658, 0.4342],\n",
       "         [0.6810, 0.3190],\n",
       "         [0.4614, 0.5386],\n",
       "         [0.6436, 0.3564],\n",
       "         [0.4761, 0.5239],\n",
       "         [0.6177, 0.3823],\n",
       "         [0.3982, 0.6018],\n",
       "         [0.3141, 0.6859]]),\n",
       " tensor([[0.5161, 0.4839],\n",
       "         [0.6475, 0.3525],\n",
       "         [0.4186, 0.5814],\n",
       "         [0.4822, 0.5178],\n",
       "         [0.5772, 0.4228],\n",
       "         [0.2387, 0.7613],\n",
       "         [0.7657, 0.2343],\n",
       "         [0.4705, 0.5295],\n",
       "         [0.2719, 0.7281],\n",
       "         [0.5356, 0.4644],\n",
       "         [0.6308, 0.3692],\n",
       "         [0.4900, 0.5100],\n",
       "         [0.7246, 0.2754],\n",
       "         [0.6937, 0.3063],\n",
       "         [0.3691, 0.6309],\n",
       "         [0.6655, 0.3345]]),\n",
       " tensor([[0.4663, 0.5337],\n",
       "         [0.5311, 0.4689],\n",
       "         [0.6946, 0.3054],\n",
       "         [0.6674, 0.3326],\n",
       "         [0.6763, 0.3237],\n",
       "         [0.5915, 0.4085],\n",
       "         [0.5405, 0.4595],\n",
       "         [0.3196, 0.6804],\n",
       "         [0.6041, 0.3959],\n",
       "         [0.7206, 0.2794],\n",
       "         [0.6198, 0.3802],\n",
       "         [0.3032, 0.6968],\n",
       "         [0.5665, 0.4335],\n",
       "         [0.6647, 0.3353],\n",
       "         [0.5162, 0.4838],\n",
       "         [0.6670, 0.3330]])]"
      ]
     },
     "execution_count": 21,
     "metadata": {},
     "output_type": "execute_result"
    }
   ],
   "source": [
    "preds"
   ]
  },
  {
   "cell_type": "code",
   "execution_count": 22,
   "metadata": {},
   "outputs": [
    {
     "data": {
      "text/plain": [
       "array([0, 0, 0, 0, 0, 1, 0, 1, 0, 0, 0, 0, 0, 1, 0, 0, 0, 0, 0, 0, 1, 0,\n",
       "       1, 1, 1, 0, 0, 0, 0, 0, 0, 0, 1, 0, 1, 0, 1, 1, 1, 0, 0, 0, 1, 0,\n",
       "       0, 1, 0, 0, 0, 1, 0, 1, 1, 0, 1, 1, 1, 0, 0, 1, 1, 0, 1, 0, 0, 1,\n",
       "       1, 0, 0, 0, 0, 0, 1, 1, 0, 1, 1, 0, 0, 0, 0, 0, 1, 0, 0, 0, 0, 1,\n",
       "       0, 1, 1, 1, 0, 0, 0, 1, 0, 0, 0, 1, 1, 0, 0, 1, 1, 0, 1, 1, 1, 1,\n",
       "       1, 1, 0, 0, 0, 1, 0, 0, 0, 1, 0, 0, 1, 0, 1, 0, 1, 1, 0, 0, 1, 1,\n",
       "       0, 1, 0, 1, 1, 0, 0, 1, 0, 0, 1, 0, 1, 0, 0, 0, 0, 0, 0, 1, 0, 0,\n",
       "       0, 1, 0, 0, 0, 0])"
      ]
     },
     "execution_count": 22,
     "metadata": {},
     "output_type": "execute_result"
    }
   ],
   "source": [
    "P"
   ]
  },
  {
   "cell_type": "code",
   "execution_count": 23,
   "metadata": {},
   "outputs": [
    {
     "data": {
      "text/plain": [
       "array([0, 0, 0, 1, 0, 1, 0, 1, 0, 0, 1, 0, 1, 1, 1, 1, 0, 0, 0, 1, 1, 1,\n",
       "       1, 1, 1, 0, 0, 1, 0, 0, 0, 0, 1, 0, 1, 0, 1, 1, 1, 0, 1, 0, 0, 0,\n",
       "       0, 1, 0, 1, 0, 1, 0, 1, 1, 0, 1, 1, 1, 0, 0, 1, 1, 0, 1, 0, 0, 1,\n",
       "       1, 0, 0, 1, 0, 0, 1, 1, 0, 1, 1, 0, 1, 1, 0, 0, 1, 0, 0, 0, 0, 1,\n",
       "       0, 1, 1, 1, 0, 0, 0, 1, 0, 0, 0, 1, 1, 0, 0, 1, 1, 0, 1, 1, 1, 1,\n",
       "       1, 1, 0, 0, 0, 0, 0, 0, 0, 1, 0, 1, 1, 0, 1, 1, 1, 1, 0, 0, 1, 1,\n",
       "       0, 1, 0, 1, 1, 0, 1, 1, 0, 0, 1, 0, 1, 1, 0, 0, 0, 0, 0, 1, 0, 0,\n",
       "       1, 1, 0, 1, 0, 0])"
      ]
     },
     "execution_count": 23,
     "metadata": {},
     "output_type": "execute_result"
    }
   ],
   "source": [
    "L"
   ]
  },
  {
   "cell_type": "code",
   "execution_count": 24,
   "metadata": {},
   "outputs": [
    {
     "data": {
      "image/png": "[encoded data removed]",
      "text/plain": [
       "<Figure size 640x480 with 1 Axes>"
      ]
     },
     "metadata": {},
     "output_type": "display_data"
    }
   ],
   "source": [
    "np.random.seed(42)\n",
    "fig = plt.figure()\n",
    "# ax = fig.add_subplot(projection='3d')\n",
    "ax = fig.add_subplot()\n",
    "ax.scatter(xs, ys, c=labels, cmap=matplotlib.colors.ListedColormap(colors))\n",
    "\n",
    "ax.set_xlabel('X Label')\n",
    "ax.set_ylabel('Y Label')\n",
    "# ax.set_zlabel('Z Label')\n",
    "# ax.invert_yaxis()\n",
    "\n",
    "plt.show()\n",
    "#'/home/rachel/ornet/tb_logs/ batch_size = 16 lr = 1e-05 shuffle = True epochs = 30 wd = 0.1 frames=10 resnet18 - steps =1/version_0/checkpoints/epoch=6-step=224.ckpt'\n",
    "# path =  ' batch_size = 4 lr = 1e-05 wd = 0 frames=5 resnet18-kornia_'"
   ]
  },
  {
   "cell_type": "code",
   "execution_count": 10,
   "metadata": {},
   "outputs": [
    {
     "data": {
      "image/png": "[encoded data removed]",
      "text/plain": [
       "<Figure size 640x480 with 1 Axes>"
      ]
     },
     "metadata": {},
     "output_type": "display_data"
    }
   ],
   "source": [
    "np.random.seed(42)\n",
    "fig = plt.figure()\n",
    "# ax = fig.add_subplot(projection='3d')\n",
    "ax = fig.add_subplot()\n",
    "ax.scatter(xs, ys, c=labels, cmap=matplotlib.colors.ListedColormap(colors))\n",
    "\n",
    "ax.set_xlabel('X Label')\n",
    "ax.set_ylabel('Y Label')\n",
    "# ax.set_zlabel('Z Label')\n",
    "ax.invert_yaxis()\n",
    "\n",
    "plt.show()\n",
    "# I dont remember what this one was... the three? dont need to separate far."
   ]
  },
  {
   "cell_type": "code",
   "execution_count": null,
   "metadata": {},
   "outputs": [],
   "source": []
  },
  {
   "cell_type": "code",
   "execution_count": null,
   "metadata": {},
   "outputs": [],
   "source": []
  },
  {
   "cell_type": "code",
   "execution_count": null,
   "metadata": {},
   "outputs": [],
   "source": []
  },
  {
   "cell_type": "code",
   "execution_count": null,
   "metadata": {},
   "outputs": [],
   "source": []
  },
  {
   "cell_type": "code",
   "execution_count": 38,
   "metadata": {},
   "outputs": [
    {
     "data": {
      "image/png": "[encoded data removed]",
      "text/plain": [
       "<Figure size 640x480 with 1 Axes>"
      ]
     },
     "metadata": {},
     "output_type": "display_data"
    }
   ],
   "source": [
    "np.random.seed(42)\n",
    "fig = plt.figure()\n",
    "ax = fig.add_subplot(projection='3d')\n",
    "ax.scatter(xs, ys, zs, c=labels, cmap=matplotlib.colors.ListedColormap(colors))\n",
    "\n",
    "ax.set_xlabel('X Label')\n",
    "ax.set_ylabel('Y Label')\n",
    "ax.set_zlabel('Z Label')\n",
    "ax.invert_yaxis()\n",
    "\n",
    "plt.show()\n"
   ]
  },
  {
   "cell_type": "markdown",
   "metadata": {},
   "source": []
  },
  {
   "cell_type": "markdown",
   "metadata": {},
   "source": [
    "\n",
    "\n"
   ]
  },
  {
   "cell_type": "code",
   "execution_count": null,
   "metadata": {},
   "outputs": [],
   "source": []
  }
 ],
 "metadata": {
  "interpreter": {
   "hash": "a690693c1fdd9d71c81918a527effb7319205501255b3eea75f291099e2d6564"
  },
  "kernelspec": {
   "display_name": "Python 3.9.13 ('ornet')",
   "language": "python",
   "name": "python3"
  },
  "language_info": {
   "codemirror_mode": {
    "name": "ipython",
    "version": 3
   },
   "file_extension": ".py",
   "mimetype": "text/x-python",
   "name": "python",
   "nbconvert_exporter": "python",
   "pygments_lexer": "ipython3",
   "version": "3.9.13"
  },
  "orig_nbformat": 4
 },
 "nbformat": 4,
 "nbformat_minor": 2
}
